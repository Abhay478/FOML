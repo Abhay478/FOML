{
 "cells": [
  {
   "cell_type": "code",
   "execution_count": 1,
   "metadata": {},
   "outputs": [],
   "source": [
    "# import everything\n",
    "import numpy as np\n",
    "import pandas as pd\n",
    "from sklearn.preprocessing import StandardScaler\n",
    "from sklearn.neighbors import KNeighborsClassifier\n",
    "from sklearn.metrics import accuracy_score\n",
    "from sklearn.metrics import f1_score\n",
    "from sklearn.model_selection import GridSearchCV\n",
    "from sklearn.model_selection import train_test_split\n",
    "from sklearn.ensemble import RandomForestClassifier\n"
   ]
  },
  {
   "cell_type": "code",
   "execution_count": 2,
   "metadata": {},
   "outputs": [
    {
     "data": {
      "text/plain": [
       "((795, 24), (795,), (199, 24), (199,), (426, 24))"
      ]
     },
     "execution_count": 2,
     "metadata": {},
     "output_type": "execute_result"
    }
   ],
   "source": [
    "# read data\n",
    "\n",
    "train = pd.read_csv('train.csv')\n",
    "test_data = pd.read_csv('test.csv')\n",
    "\n",
    "# get data and labels\n",
    "train_data = train.drop(['Target Variable (Discrete)'], axis=1)\n",
    "train_labels_ = train['Target Variable (Discrete)']\n",
    "\n",
    "# standardize data\n",
    "scaler = StandardScaler()\n",
    "train_data_ = scaler.fit_transform(train_data)\n",
    "test_data = scaler.transform(test_data)\n",
    "\n",
    "# set numpy random seed\n",
    "np.random.seed(42)\n",
    "\n",
    "# black magic\n",
    "# train_data_ = np.concatenate((train_data_, train_data_, train_data_))\n",
    "# train_labels = np.concatenate((train_labels, train_labels, train_labels))\n",
    "\n",
    "\n",
    "# impute missing values\n",
    "from sklearn.impute import SimpleImputer\n",
    "imputer = SimpleImputer(strategy='median')\n",
    "imputer.fit(train_data_)\n",
    "train_data_ = imputer.transform(train_data_)\n",
    "test_data = imputer.transform(test_data)\n",
    "    \n",
    "# split data into train and validation\n",
    "train_data, val_data, train_labels, val_labels = train_test_split(train_data_, train_labels_, test_size=0.2)\n",
    "# train_data, train_labels = train_data_, train_labels_\n",
    "\n",
    "\n",
    "# # print shapes\n",
    "train_data.shape, train_labels.shape, val_data.shape, val_labels.shape, test_data.shape\n"
   ]
  },
  {
   "cell_type": "code",
   "execution_count": 3,
   "metadata": {},
   "outputs": [
    {
     "data": {
      "text/plain": [
       "array([249, 488, 109,   3,   3,  41,  70,   5,   7,   2,   1,   1,   1,\n",
       "         3,   5,   4,   1,   1])"
      ]
     },
     "execution_count": 3,
     "metadata": {},
     "output_type": "execute_result"
    }
   ],
   "source": [
    "np.bincount(train_labels) + np.bincount(val_labels, minlength=18)"
   ]
  },
  {
   "cell_type": "code",
   "execution_count": 4,
   "metadata": {},
   "outputs": [],
   "source": [
    "# knn imputer\n",
    "def knn_imputer(train_data, val_data, test_data, k):\n",
    "    from sklearn.impute import KNNImputer\n",
    "    imputer = KNNImputer(n_neighbors=k)\n",
    "    all_imp = imputer.fit_transform(train_data_)\n",
    "    train_data_imp = imputer.transform(train_data)\n",
    "    val_data_imp = imputer.transform(val_data)\n",
    "    test_data_imp = imputer.transform(test_data)\n",
    "    return train_data_imp, val_data_imp, test_data_imp, all_imp\n",
    "\n",
    "# PCA\n",
    "from sklearn.decomposition import PCA\n",
    "\n",
    "def pca(train_data, val_data, test_data, n):\n",
    "    pca = PCA(n_components=n)\n",
    "    train_data_pca = pca.fit_transform(train_data)\n",
    "    val_data_pca = pca.transform(val_data)\n",
    "    test_data_pca = pca.transform(test_data)\n",
    "    return train_data_pca, val_data_pca, test_data_pca\n",
    "\n",
    "# augment data\n",
    "\n",
    "def augment_data(train_data, train_labels):\n",
    "    from imblearn.over_sampling import RandomOverSampler\n",
    "    oversample = RandomOverSampler()\n",
    "    train_data_aug, train_labels_aug = oversample.fit_resample(train_data, train_labels)\n",
    "    return train_data_aug, train_labels_aug"
   ]
  },
  {
   "cell_type": "code",
   "execution_count": 5,
   "metadata": {},
   "outputs": [],
   "source": [
    "train_data, train_labels = augment_data(train_data, train_labels)\n",
    "# val_data, val_labels = augment_data(val_data, val_labels)\n",
    "\n",
    "# train_data, val_data, test_data = pca(train_data, val_data, test_data, 15)"
   ]
  },
  {
   "cell_type": "code",
   "execution_count": 6,
   "metadata": {},
   "outputs": [
    {
     "data": {
      "text/plain": [
       "((6749, 24), (6749,), (199, 24), (199,))"
      ]
     },
     "execution_count": 6,
     "metadata": {},
     "output_type": "execute_result"
    }
   ],
   "source": [
    "train_data.shape, train_labels.shape, val_data.shape, val_labels.shape"
   ]
  },
  {
   "cell_type": "code",
   "execution_count": 7,
   "metadata": {},
   "outputs": [
    {
     "name": "stdout",
     "output_type": "stream",
     "text": [
      "{'max_depth': 15, 'n_estimators': 90}\n",
      "RF accuracy: 0.8743718592964824\n",
      "RF f1: 0.6925632691225412\n"
     ]
    }
   ],
   "source": [
    "# deep copy labels_tmp\n",
    "labels_tmp = train_labels.copy()\n",
    "\n",
    "keeps = [0, 1, 2, 5, 6, 9, 10, 11, 12, 14, 16, 17]\n",
    "mask = np.isin(labels_tmp, keeps)\n",
    "\n",
    "# if label not in keeps, set to -1\n",
    "labels_tmp[np.logical_not(mask)] = -1\n",
    "\n",
    "# train knn\n",
    "# knn_keeps = KNeighborsClassifier(n_neighbors=5)\n",
    "# knn_keeps.fit(train_data, labels_tmp)\n",
    "\n",
    "# train random forest\n",
    "\n",
    "param_grid = {\n",
    "    'n_estimators': [80, 90, 100, 110, 120],\n",
    "    'max_depth': [9, 10, 11, 12, 13]\n",
    "}\n",
    "\n",
    "rf_keeps = RandomForestClassifier()\n",
    "grid_search = GridSearchCV(estimator=rf_keeps, param_grid=param_grid, cv=5, n_jobs=-1, scoring='f1_macro')\n",
    "grid_search.fit(train_data, labels_tmp)\n",
    "print(grid_search.best_params_)\n",
    "\n",
    "rf_keeps = grid_search.best_estimator_\n",
    "rf_keeps.fit(train_data, labels_tmp)\n",
    "\n",
    "# predict\n",
    "# preds_knn = knn_keeps.predict(val_data)\n",
    "preds_rf = rf_keeps.predict(val_data)\n",
    "\n",
    "val_labels_tmp = val_labels.copy()\n",
    "mask = np.isin(val_labels_tmp, keeps)\n",
    "val_labels_tmp[np.logical_not(mask)] = -1\n",
    "\n",
    "# accuracy\n",
    "# acc_knn = accuracy_score(val_labels_tmp, preds_knn)\n",
    "# f1_knn = f1_score(val_labels_tmp, preds_knn, average='macro')\n",
    "# print(f'KNN accuracy: {acc_knn}')\n",
    "# print(f'KNN f1: {f1_knn}')\n",
    "acc_rf = accuracy_score(val_labels_tmp, preds_rf)\n",
    "f1_rf = f1_score(val_labels_tmp, preds_rf, average='macro')\n",
    "print(f'RF accuracy: {acc_rf}')\n",
    "print(f'RF f1: {f1_rf}')"
   ]
  },
  {
   "cell_type": "code",
   "execution_count": 8,
   "metadata": {},
   "outputs": [
    {
     "name": "stdout",
     "output_type": "stream",
     "text": [
      "{'max_depth': 9, 'n_estimators': 80}\n",
      "RF accuracy: 0.45454545454545453\n",
      "RF f1: 0.5\n"
     ]
    }
   ],
   "source": [
    "labels = train_labels.copy()\n",
    "\n",
    "# if label not in keeps, ignore\n",
    "mask = np.isin(labels_tmp, keeps)\n",
    "mask = np.logical_not(mask)\n",
    "train_tmp = train_data[mask]\n",
    "labels = labels[mask]\n",
    "\n",
    "# train knn\n",
    "# knn_other = KNeighborsClassifier(n_neighbors=5)\n",
    "# knn_other.fit(train_tmp, labels)\n",
    "\n",
    "# train random forest\n",
    "param_grid = {\n",
    "    'n_estimators': [80, 90, 100, 110, 120],\n",
    "    'max_depth': [9, 10, 11, 12, 13]\n",
    "}\n",
    "\n",
    "rf_other = RandomForestClassifier()\n",
    "grid_search = GridSearchCV(estimator=rf_other, param_grid=param_grid, cv=5, n_jobs=-1, scoring='f1_macro')\n",
    "grid_search.fit(train_tmp, labels)\n",
    "print(grid_search.best_params_)\n",
    "\n",
    "rf_other = grid_search.best_estimator_\n",
    "# rf_other = RandomForestClassifier(n_estimators=100, max_depth=10)\n",
    "rf_other.fit(train_tmp, labels)\n",
    "\n",
    "val_mask = np.isin(val_labels, keeps)\n",
    "val_mask = np.logical_not(val_mask)\n",
    "val_tmp = val_data[val_mask]\n",
    "val_labels_tmp = val_labels[val_mask]\n",
    "\n",
    "# predict\n",
    "# preds_knn = knn_other.predict(val_tmp)\n",
    "preds_rf = rf_other.predict(val_tmp)\n",
    "\n",
    "# accuracy\n",
    "# acc_knn = accuracy_score(val_labels_tmp, preds_knn)\n",
    "# f1_knn = f1_score(val_labels_tmp, preds_knn, average='macro')\n",
    "# print(f'KNN accuracy: {acc_knn}')\n",
    "# print(f'KNN f1: {f1_knn}')\n",
    "acc_rf = accuracy_score(val_labels_tmp, preds_rf)\n",
    "f1_rf = f1_score(val_labels_tmp, preds_rf, average='macro')\n",
    "print(f'RF accuracy: {acc_rf}')\n",
    "print(f'RF f1: {f1_rf}')"
   ]
  },
  {
   "cell_type": "code",
   "execution_count": 9,
   "metadata": {},
   "outputs": [
    {
     "name": "stdout",
     "output_type": "stream",
     "text": [
      "RF accuracy: 0.864321608040201\n",
      "RF f1: 0.4788243599458553\n"
     ]
    }
   ],
   "source": [
    "# combine rf_keeps and rf_other\n",
    "rf_keeps_preds = rf_keeps.predict(val_data)\n",
    "rf_other_preds = rf_other.predict(val_data)\n",
    "rf_preds = np.where(rf_keeps_preds == -1, rf_other_preds, rf_keeps_preds)\n",
    "\n",
    "# accuracy\n",
    "acc_rf = accuracy_score(val_labels, rf_preds)\n",
    "f1_rf = f1_score(val_labels, rf_preds, average='macro')\n",
    "print(f'RF accuracy: {acc_rf}')\n",
    "print(f'RF f1: {f1_rf}')"
   ]
  },
  {
   "cell_type": "code",
   "execution_count": 10,
   "metadata": {},
   "outputs": [
    {
     "name": "stdout",
     "output_type": "stream",
     "text": [
      "[107 217  42   2   4  14  27   2   4   0   0   0   0   1   2   4]\n"
     ]
    }
   ],
   "source": [
    "# combine rf_keeps and rf_other on test data\n",
    "rf_keeps_preds = rf_keeps.predict(test_data)\n",
    "rf_other_preds = rf_other.predict(test_data)\n",
    "rf_preds = np.where(rf_keeps_preds == -1, rf_other_preds, rf_keeps_preds)\n",
    "\n",
    "# print(rf_preds)\n",
    "print(np.bincount(rf_preds))\n",
    "\n",
    "# save predictions\n",
    "rf_preds = pd.DataFrame(np.array([(i + 1, v) for i, v in enumerate(rf_preds)]))\n",
    "rf_preds.columns = ['Id', 'Category']\n",
    "rf_preds.to_csv('rf_hierarchical.csv', index=False)"
   ]
  }
 ],
 "metadata": {
  "kernelspec": {
   "display_name": "Python 3",
   "language": "python",
   "name": "python3"
  },
  "language_info": {
   "codemirror_mode": {
    "name": "ipython",
    "version": 3
   },
   "file_extension": ".py",
   "mimetype": "text/x-python",
   "name": "python",
   "nbconvert_exporter": "python",
   "pygments_lexer": "ipython3",
   "version": "3.11.5"
  }
 },
 "nbformat": 4,
 "nbformat_minor": 2
}
