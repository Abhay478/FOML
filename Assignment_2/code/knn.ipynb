{
  "cells": [
    {
      "cell_type": "code",
      "execution_count": 27,
      "metadata": {
        "id": "CSxB1nAZXoLO"
      },
      "outputs": [],
      "source": [
        "import numpy as np\n",
        "import sklearn as sk\n",
        "\n",
        "# read .mat files\n",
        "import scipy.io as sio\n",
        "train = sio.loadmat('../data/train_32x32.mat')\n",
        "test = sio.loadmat('../data/test_32x32.mat')\n",
        "\n",
        "# extract data and labels\n",
        "train_data: np.ndarray = train['X']\n",
        "train_labels: np.ndarray = train['y']\n",
        "test_data: np.ndarray = test['X']\n",
        "test_labels: np.ndarray = test['y']"
      ]
    },
    {
      "cell_type": "code",
      "execution_count": 50,
      "metadata": {},
      "outputs": [
        {
          "name": "stdout",
          "output_type": "stream",
          "text": [
            "73257\n",
            "25000 25000\n"
          ]
        }
      ],
      "source": [
        "trd_reshape = train_data.reshape(3072, train_data.shape[3]).T\n",
        "ted_reshape = test_data.reshape(3072, test_data.shape[3]).T\n",
        "zipped = list(zip(trd_reshape, train_labels))\n",
        "np.random.shuffle(zipped)\n",
        "srt = sorted(zipped, key=lambda x: x[1])\n",
        "print(len(srt))\n",
        "out = []\n",
        "labels = []\n",
        "x = -1\n",
        "for i, q in enumerate(srt):\n",
        "  if q[1] != x:\n",
        "    # New label\n",
        "    out += list(map(lambda w: w[0], srt[i:i+2500]))\n",
        "    labels += list(map(lambda w: w[1], srt[i:i+2500]))\n",
        "    x = q[1]\n",
        "\n",
        "trd_new = out\n",
        "print(len(out), len(labels))"
      ]
    },
    {
      "cell_type": "code",
      "execution_count": 48,
      "metadata": {},
      "outputs": [
        {
          "ename": "ValueError",
          "evalue": "a must be greater than 0 unless no samples are taken",
          "output_type": "error",
          "traceback": [
            "\u001b[0;31m---------------------------------------------------------------------------\u001b[0m",
            "\u001b[0;31mValueError\u001b[0m                                Traceback (most recent call last)",
            "\u001b[1;32m/Users/abhay/Code/Courses/FOML/Assignments/Assignment_2/code/knn.ipynb Cell 3\u001b[0m line \u001b[0;36m1\n\u001b[1;32m      <a href='vscode-notebook-cell:/Users/abhay/Code/Courses/FOML/Assignments/Assignment_2/code/knn.ipynb#X23sZmlsZQ%3D%3D?line=5'>6</a>\u001b[0m \u001b[39mfor\u001b[39;00m i, q \u001b[39min\u001b[39;00m \u001b[39menumerate\u001b[39m(srt):\n\u001b[1;32m      <a href='vscode-notebook-cell:/Users/abhay/Code/Courses/FOML/Assignments/Assignment_2/code/knn.ipynb#X23sZmlsZQ%3D%3D?line=6'>7</a>\u001b[0m   \u001b[39mif\u001b[39;00m q[\u001b[39m1\u001b[39m][\u001b[39m0\u001b[39m] \u001b[39m!=\u001b[39m x:\n\u001b[1;32m      <a href='vscode-notebook-cell:/Users/abhay/Code/Courses/FOML/Assignments/Assignment_2/code/knn.ipynb#X23sZmlsZQ%3D%3D?line=7'>8</a>\u001b[0m     \u001b[39m# New label\u001b[39;00m\n\u001b[1;32m      <a href='vscode-notebook-cell:/Users/abhay/Code/Courses/FOML/Assignments/Assignment_2/code/knn.ipynb#X23sZmlsZQ%3D%3D?line=8'>9</a>\u001b[0m     \u001b[39m# print(i, j, q[1][0], x)\u001b[39;00m\n\u001b[0;32m---> <a href='vscode-notebook-cell:/Users/abhay/Code/Courses/FOML/Assignments/Assignment_2/code/knn.ipynb#X23sZmlsZQ%3D%3D?line=9'>10</a>\u001b[0m     r \u001b[39m=\u001b[39m np\u001b[39m.\u001b[39;49mrandom\u001b[39m.\u001b[39;49mchoice(j \u001b[39m-\u001b[39;49m i, \u001b[39m2500\u001b[39;49m)\n\u001b[1;32m     <a href='vscode-notebook-cell:/Users/abhay/Code/Courses/FOML/Assignments/Assignment_2/code/knn.ipynb#X23sZmlsZQ%3D%3D?line=10'>11</a>\u001b[0m     \u001b[39m# out += [srt[j:i]]\u001b[39;00m\n\u001b[1;32m     <a href='vscode-notebook-cell:/Users/abhay/Code/Courses/FOML/Assignments/Assignment_2/code/knn.ipynb#X23sZmlsZQ%3D%3D?line=11'>12</a>\u001b[0m     rand \u001b[39m+\u001b[39m\u001b[39m=\u001b[39m [srt[r]]\n",
            "File \u001b[0;32mmtrand.pyx:928\u001b[0m, in \u001b[0;36mnumpy.random.mtrand.RandomState.choice\u001b[0;34m()\u001b[0m\n",
            "\u001b[0;31mValueError\u001b[0m: a must be greater than 0 unless no samples are taken"
          ]
        }
      ],
      "source": [
        "# Weird numpy errors. Above one works.\n",
        "# Nuke at will.\n",
        "\n",
        "out = []\n",
        "rlabels = []\n",
        "x = 1\n",
        "j = 0\n",
        "rand = []\n",
        "for i, q in enumerate(srt):\n",
        "  if q[1][0] != x:\n",
        "    # New label\n",
        "    # print(i, j, q[1][0], x)\n",
        "    r = np.random.choice(j - i, 2500)\n",
        "    # out += [srt[j:i]]\n",
        "    rand += [srt[r]]\n",
        "    j = i\n",
        "    x = q[1][0]\n",
        "out += [srt[j:]]\n",
        "\n",
        "# We have all the stuff.\n",
        "# rand = list(map(lambda x: [np.random.choice(x, 2500)], out))\n",
        "# print(out[0].shape)\n",
        "# rand = []\n",
        "# for bunch in out:\n",
        "#   rb = np.random.choice(bunch, 2500)\n",
        "#   rand += list(rb)\n",
        "\n",
        "print(len(rand))\n"
      ]
    },
    {
      "cell_type": "code",
      "execution_count": 29,
      "metadata": {
        "id": "aQBAcDSJYDoh"
      },
      "outputs": [],
      "source": [
        "from sklearn.decomposition import PCA\n",
        "\n",
        "\n",
        "def train_pca(i) -> (PCA, np.ndarray, np.ndarray):\n",
        "    pca = PCA(n_components=i)\n",
        "    pca.fit(trd_new)\n",
        "    train_data_pca = pca.transform(trd_new)\n",
        "    test_data_pca = pca.transform(ted_reshape)\n",
        "    return pca, train_data_pca, test_data_pca\n"
      ]
    },
    {
      "cell_type": "code",
      "execution_count": 30,
      "metadata": {},
      "outputs": [
        {
          "name": "stdout",
          "output_type": "stream",
          "text": [
            "PoV = 0.900 > 0.9 achieved at 26 dimensions\n"
          ]
        },
        {
          "data": {
            "image/png": "[encoded data removed]",
            "text/plain": [
              "<Figure size 640x480 with 1 Axes>"
            ]
          },
          "metadata": {},
          "output_type": "display_data"
        }
      ],
      "source": [
        "\n",
        "# We estimate (correctly) that the required dimension < 30.\n",
        "pca, tr, te = train_pca(30)\n",
        "q = np.cumsum(pca.explained_variance_ratio_)\n",
        "\n",
        "import matplotlib.pyplot as plt\n",
        "plt.plot(range(1, 31), q)\n",
        "plt.xlabel('Number of Components')\n",
        "plt.ylabel('Proportion of Variance') #for each component\n",
        "v = 0\n",
        "for i in range(1, 31, 3):\n",
        "    plt.annotate(f'({i}, {q[i-1]:.2f})', (i, q[i-1]))\n",
        "    if q[i-1] >= 0.9:\n",
        "        v = i\n",
        "        break\n",
        "\n",
        "plt.plot(np.linspace(1, 32, 320), [0.9] * 320)\n",
        "plt.plot([v - 2] * 320, np.linspace(0.6, 1.0, 320))\n",
        "print(f'PoV = {q[25]:.3f} > 0.9 achieved at {v - 2} dimensions')\n",
        "plt.show()"
      ]
    },
    {
      "cell_type": "code",
      "execution_count": 31,
      "metadata": {
        "id": "4wfkC_iIeJRH"
      },
      "outputs": [],
      "source": [
        "pca, tr_pca_1, te_pca_1 = train_pca(v - 2)\n",
        "pca, tr_pca_2, te_pca_2 = train_pca(10)"
      ]
    },
    {
      "cell_type": "code",
      "execution_count": 32,
      "metadata": {},
      "outputs": [
        {
          "data": {
            "text/plain": [
              "((25000, 26), (26032, 26), (25000, 10), (26032, 10))"
            ]
          },
          "execution_count": 32,
          "metadata": {},
          "output_type": "execute_result"
        }
      ],
      "source": [
        "tr_pca_1.shape, te_pca_1.shape, tr_pca_2.shape, te_pca_2.shape"
      ]
    },
    {
      "cell_type": "code",
      "execution_count": 33,
      "metadata": {
        "colab": {
          "base_uri": "https://localhost:8080/"
        },
        "id": "PIzlyKinmAc6",
        "outputId": "1c3f5bf4-eb59-4209-d781-3b2c9d1a2b2c"
      },
      "outputs": [],
      "source": [
        "# This should be images, maybe refer Rutv's code.\n",
        "\n",
        "# print(pca.components_)\n",
        "# print(pca.explained_variance_)\n",
        "# imgs = pca.components_.reshape(10, 32, 32, 3)\n",
        "# for img in imgs:\n",
        "#     print(img[0][0])\n",
        "#     plt.imshow(img)"
      ]
    },
    {
      "cell_type": "code",
      "execution_count": 34,
      "metadata": {
        "colab": {
          "base_uri": "https://localhost:8080/"
        },
        "id": "YRNUup5FmAQK",
        "outputId": "b615cee4-2f91-4be1-8fc8-8b44fca67fb3"
      },
      "outputs": [],
      "source": [
        "# zipped = list(zip(tr_pca_2, train_labels))\n",
        "# srt = sorted(zipped, key=lambda x: x[1])\n",
        "# # print(srt[0])\n",
        "# x = -1\n",
        "# for i in srt:\n",
        "#     if i[1] != x:\n",
        "#         print(list(i[0]))\n",
        "#         x = i[1]"
      ]
    },
    {
      "cell_type": "code",
      "execution_count": 35,
      "metadata": {
        "colab": {
          "background_save": true,
          "base_uri": "https://localhost:8080/"
        },
        "id": "bcWkxsdJecoN",
        "outputId": "be817462-39e5-41f6-f90e-7b505978209b"
      },
      "outputs": [
        {
          "name": "stderr",
          "output_type": "stream",
          "text": [
            "/opt/homebrew/lib/python3.11/site-packages/sklearn/neighbors/_classification.py:233: DataConversionWarning: A column-vector y was passed when a 1d array was expected. Please change the shape of y to (n_samples,), for example using ravel().\n",
            "  return self._fit(X, y)\n",
            "/opt/homebrew/lib/python3.11/site-packages/sklearn/neighbors/_classification.py:233: DataConversionWarning: A column-vector y was passed when a 1d array was expected. Please change the shape of y to (n_samples,), for example using ravel().\n",
            "  return self._fit(X, y)\n",
            "/opt/homebrew/lib/python3.11/site-packages/sklearn/neighbors/_classification.py:233: DataConversionWarning: A column-vector y was passed when a 1d array was expected. Please change the shape of y to (n_samples,), for example using ravel().\n",
            "  return self._fit(X, y)\n",
            "/opt/homebrew/lib/python3.11/site-packages/sklearn/neighbors/_classification.py:233: DataConversionWarning: A column-vector y was passed when a 1d array was expected. Please change the shape of y to (n_samples,), for example using ravel().\n",
            "  return self._fit(X, y)\n",
            "/opt/homebrew/lib/python3.11/site-packages/sklearn/neighbors/_classification.py:233: DataConversionWarning: A column-vector y was passed when a 1d array was expected. Please change the shape of y to (n_samples,), for example using ravel().\n",
            "  return self._fit(X, y)\n",
            "/opt/homebrew/lib/python3.11/site-packages/sklearn/neighbors/_classification.py:233: DataConversionWarning: A column-vector y was passed when a 1d array was expected. Please change the shape of y to (n_samples,), for example using ravel().\n",
            "  return self._fit(X, y)\n"
          ]
        },
        {
          "data": {
            "text/plain": [
              "((0.40277350952673635, 0.39535955746773205, 0.25195912722802705),\n",
              " (0.41160878918254457, 0.40769053472649047, 0.2609096496619545))"
            ]
          },
          "execution_count": 35,
          "metadata": {},
          "output_type": "execute_result"
        }
      ],
      "source": [
        "from sklearn.neighbors import KNeighborsClassifier\n",
        "from sklearn.metrics import accuracy_score\n",
        "def knn(k) -> (float, float, float):\n",
        "    knn = KNeighborsClassifier(n_neighbors=k)\n",
        "    knn.fit(trd_new, labels)\n",
        "    x = accuracy_score(test_labels, knn.predict(ted_reshape))\n",
        "    knn.fit(tr_pca_1, labels)\n",
        "    y = accuracy_score(test_labels, knn.predict(te_pca_1))\n",
        "    knn.fit(tr_pca_2, labels)\n",
        "    z = accuracy_score(test_labels, knn.predict(te_pca_2))\n",
        "    return (x, y, z)\n",
        "\n",
        "(knn(5), knn(7))"
      ]
    },
    {
      "cell_type": "code",
      "execution_count": 49,
      "metadata": {},
      "outputs": [],
      "source": [
        "np.savetxt('tr_pca_2.csv', tr_pca_1, delimiter=',') # The dimensions = 10 dataset."
      ]
    }
  ],
  "metadata": {
    "colab": {
      "provenance": []
    },
    "kernelspec": {
      "display_name": "Python 3",
      "name": "python3"
    },
    "language_info": {
      "codemirror_mode": {
        "name": "ipython",
        "version": 3
      },
      "file_extension": ".py",
      "mimetype": "text/x-python",
      "name": "python",
      "nbconvert_exporter": "python",
      "pygments_lexer": "ipython3",
      "version": "3.11.5"
    }
  },
  "nbformat": 4,
  "nbformat_minor": 0
}
