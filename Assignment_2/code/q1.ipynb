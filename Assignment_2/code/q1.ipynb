{
 "cells": [
  {
   "cell_type": "code",
   "execution_count": 12,
   "metadata": {},
   "outputs": [
    {
     "data": {
      "text/plain": [
       "array([[[[ 33,  84,  19, ...,  92, 190, 216],\n",
       "         [ 30,  76,  54, ...,  78, 188, 217],\n",
       "         [ 38,  59, 110, ..., 101, 191, 212]],\n",
       "\n",
       "        [[ 15,  86,  20, ...,  94, 205, 221],\n",
       "         [ 23,  73,  52, ...,  82, 203, 222],\n",
       "         [ 19,  66, 111, ..., 105, 206, 217]],\n",
       "\n",
       "        [[ 15,  77,  25, ..., 114, 220, 226],\n",
       "         [ 17,  78,  57, ..., 101, 218, 227],\n",
       "         [ 19,  56, 116, ..., 125, 220, 221]],\n",
       "\n",
       "        ...,\n",
       "\n",
       "        [[ 72,  90,  65, ..., 200, 229, 200],\n",
       "         [ 65,  78, 144, ..., 201, 231, 199],\n",
       "         [ 56,  69, 223, ..., 203, 224, 191]],\n",
       "\n",
       "        [[ 82,  88,  78, ..., 192, 229, 193],\n",
       "         [ 77,  77, 148, ..., 193, 229, 188],\n",
       "         [ 57,  67, 218, ..., 195, 224, 182]],\n",
       "\n",
       "        [[ 89,  88,  98, ..., 190, 229, 197],\n",
       "         [ 79,  78, 158, ..., 191, 228, 189],\n",
       "         [ 59,  66, 220, ..., 193, 223, 186]]],\n",
       "\n",
       "\n",
       "       [[[ 28,  85,  21, ...,  92, 183, 204],\n",
       "         [ 39,  77,  53, ...,  78, 182, 205],\n",
       "         [ 35,  61, 110, ..., 103, 186, 202]],\n",
       "\n",
       "        [[ 14,  83,  19, ...,  93, 200, 210],\n",
       "         [ 25,  73,  52, ...,  80, 199, 211],\n",
       "         [ 22,  64, 106, ..., 106, 201, 208]],\n",
       "\n",
       "        [[ 14,  74,  25, ..., 111, 218, 220],\n",
       "         [ 20,  69,  56, ...,  98, 217, 221],\n",
       "         [ 17,  59, 111, ..., 124, 218, 217]],\n",
       "\n",
       "        ...,\n",
       "\n",
       "        [[ 40,  89,  63, ..., 181, 227, 201],\n",
       "         [ 39,  82, 137, ..., 180, 228, 199],\n",
       "         [ 50,  64, 208, ..., 184, 223, 193]],\n",
       "\n",
       "        [[ 67,  88,  91, ..., 177, 227, 195],\n",
       "         [ 58,  79, 153, ..., 176, 226, 191],\n",
       "         [ 52,  70, 214, ..., 180, 222, 186]],\n",
       "\n",
       "        [[ 83,  88, 130, ..., 183, 228, 196],\n",
       "         [ 78,  81, 180, ..., 182, 224, 190],\n",
       "         [ 60,  67, 229, ..., 187, 221, 186]]],\n",
       "\n",
       "\n",
       "       [[[ 40,  83,  21, ...,  99, 171, 198],\n",
       "         [ 41,  76,  53, ...,  84, 170, 198],\n",
       "         [ 38,  60, 110, ..., 112, 175, 197]],\n",
       "\n",
       "        [[ 18,  78,  20, ...,  94, 189, 202],\n",
       "         [ 21,  77,  51, ...,  81, 189, 202],\n",
       "         [ 26,  58, 106, ..., 110, 193, 201]],\n",
       "\n",
       "        [[ 16,  61,  22, ..., 107, 213, 212],\n",
       "         [ 17,  50,  52, ...,  94, 213, 211],\n",
       "         [ 23,  54, 106, ..., 123, 215, 210]],\n",
       "\n",
       "        ...,\n",
       "\n",
       "        [[ 23,  90,  79, ..., 167, 231, 203],\n",
       "         [ 29,  85, 147, ..., 166, 230, 200],\n",
       "         [ 45,  63, 210, ..., 171, 226, 196]],\n",
       "\n",
       "        [[ 35,  88, 125, ..., 172, 229, 198],\n",
       "         [ 42,  83, 181, ..., 171, 226, 194],\n",
       "         [ 44,  66, 230, ..., 176, 223, 191]],\n",
       "\n",
       "        [[ 72,  85, 178, ..., 185, 227, 195],\n",
       "         [ 69,  82, 218, ..., 184, 223, 190],\n",
       "         [ 53,  70, 254, ..., 189, 220, 187]]],\n",
       "\n",
       "\n",
       "       ...,\n",
       "\n",
       "\n",
       "       [[[ 86, 100,  88, ...,  99, 187, 233],\n",
       "         [ 81,  98, 162, ...,  94, 185, 226],\n",
       "         [ 75,  72, 237, ..., 110, 186, 228]],\n",
       "\n",
       "        [[ 87,  98,  89, ...,  96, 204, 230],\n",
       "         [ 82,  94, 163, ...,  91, 202, 224],\n",
       "         [ 71,  76, 238, ..., 109, 199, 225]],\n",
       "\n",
       "        [[ 82,  95,  84, ..., 108, 217, 228],\n",
       "         [ 79,  93, 156, ..., 103, 217, 223],\n",
       "         [ 65,  73, 230, ..., 124, 210, 221]],\n",
       "\n",
       "        ...,\n",
       "\n",
       "        [[104, 104,  62, ..., 210, 204, 198],\n",
       "         [104, 104, 142, ..., 207, 200, 196],\n",
       "         [ 87,  86, 227, ..., 204, 195, 190]],\n",
       "\n",
       "        [[104, 102,  67, ..., 206, 196, 184],\n",
       "         [105, 102, 144, ..., 202, 193, 183],\n",
       "         [ 81,  87, 226, ..., 200, 189, 177]],\n",
       "\n",
       "        [[103, 100,  74, ..., 203, 196, 189],\n",
       "         [105, 101, 145, ..., 197, 193, 187],\n",
       "         [ 78,  78, 225, ..., 199, 189, 182]]],\n",
       "\n",
       "\n",
       "       [[[ 84, 103,  88, ...,  94, 186, 231],\n",
       "         [ 86, 104, 164, ...,  91, 184, 226],\n",
       "         [ 64,  79, 240, ..., 103, 185, 228]],\n",
       "\n",
       "        [[ 86, 106,  87, ...,  94, 198, 229],\n",
       "         [ 79, 104, 160, ...,  91, 197, 224],\n",
       "         [ 72,  79, 237, ..., 104, 194, 225]],\n",
       "\n",
       "        [[ 82, 103,  88, ..., 110, 211, 227],\n",
       "         [ 76, 103, 159, ..., 107, 211, 223],\n",
       "         [ 72,  87, 237, ..., 121, 204, 222]],\n",
       "\n",
       "        ...,\n",
       "\n",
       "        [[110, 103,  60, ..., 219, 222, 195],\n",
       "         [103, 104, 141, ..., 218, 216, 194],\n",
       "         [ 84,  86, 230, ..., 215, 212, 186]],\n",
       "\n",
       "        [[106, 103,  61, ..., 218, 214, 181],\n",
       "         [105, 103, 141, ..., 215, 209, 181],\n",
       "         [ 85,  87, 228, ..., 212, 205, 173]],\n",
       "\n",
       "        [[106, 105,  65, ..., 212, 208, 186],\n",
       "         [104,  99, 143, ..., 209, 205, 183],\n",
       "         [ 86,  81, 226, ..., 209, 200, 177]]],\n",
       "\n",
       "\n",
       "       [[[ 85, 103,  84, ...,  88, 190, 230],\n",
       "         [ 88, 106, 160, ...,  87, 188, 226],\n",
       "         [ 68,  82, 238, ...,  94, 190, 227]],\n",
       "\n",
       "        [[ 89, 103,  81, ...,  85, 199, 230],\n",
       "         [ 82, 105, 154, ...,  84, 197, 226],\n",
       "         [ 72,  87, 233, ...,  93, 194, 227]],\n",
       "\n",
       "        [[ 85, 104,  87, ..., 105, 208, 229],\n",
       "         [ 79, 106, 158, ..., 103, 208, 225],\n",
       "         [ 67,  91, 238, ..., 114, 201, 226]],\n",
       "\n",
       "        ...,\n",
       "\n",
       "        [[111, 113,  63, ..., 217, 232, 190],\n",
       "         [104, 103, 144, ..., 217, 227, 190],\n",
       "         [ 87,  88, 235, ..., 214, 223, 181]],\n",
       "\n",
       "        [[109, 104,  62, ..., 221, 226, 178],\n",
       "         [105, 104, 143, ..., 220, 221, 177],\n",
       "         [ 86,  88, 232, ..., 219, 216, 169]],\n",
       "\n",
       "        [[103, 103,  63, ..., 218, 218, 181],\n",
       "         [106,  98, 145, ..., 217, 213, 178],\n",
       "         [ 79,  80, 231, ..., 218, 209, 171]]]], dtype=uint8)"
      ]
     },
     "execution_count": 12,
     "metadata": {},
     "output_type": "execute_result"
    }
   ],
   "source": [
    "import numpy as np\n",
    "import sklearn as sk\n",
    "\n",
    "# read .mat files\n",
    "import scipy.io as sio\n",
    "train = sio.loadmat('../data/train_32x32.mat')\n",
    "test = sio.loadmat('../data/test_32x32.mat')\n",
    "\n",
    "# extract data and labels\n",
    "train_data: np.ndarray = train['X']\n",
    "train_labels: np.ndarray = train['y']\n",
    "test_data: np.ndarray = test['X']\n",
    "test_labels: np.ndarray = test['y']\n"
   ]
  },
  {
   "cell_type": "code",
   "execution_count": 45,
   "metadata": {},
   "outputs": [
    {
     "name": "stdout",
     "output_type": "stream",
     "text": [
      "0.5791350775427454\n",
      "0.6362434099336036\n",
      "0.6890545127776965\n",
      "0.7295694415561789\n",
      "0.7512304567885234\n",
      "0.7691417091755571\n",
      "0.7845816463911373\n",
      "0.7994565924885126\n",
      "0.8119170434956614\n",
      "0.8233009710929706\n",
      "0.8324723543199146\n",
      "0.84093798547777\n",
      "0.8481770469316566\n",
      "0.8536853592392029\n",
      "0.8589923462593054\n",
      "0.8641444712736107\n",
      "0.8689994502391999\n",
      "0.8732225212061329\n",
      "0.8773210950782059\n",
      "0.8810683967902169\n",
      "0.8846840524657454\n",
      "0.888117066617758\n",
      "0.8913903180667777\n",
      "0.8945251397357562\n",
      "0.8975782430305598\n",
      "0.9005742128326107\n",
      "0.9033619459323704\n",
      "0.906100991945207\n",
      "0.9086948924570166\n",
      "0.9111896819938842\n",
      "0.9136751486288229\n",
      "0.9160045188201953\n"
     ]
    }
   ],
   "source": [
    "# sklearn PCA\n",
    "tr_pca_1 = None\n",
    "te_pca_1 = None\n",
    "k = False\n",
    "from sklearn.decomposition import PCA\n",
    "with open('pca.csv', 'w') as f:\n",
    "    print('v', file=f)\n",
    "    for i in range(1, 33):\n",
    "        pca, tr, te = train_pca(i)\n",
    "        u = sum(pca.explained_variance_ratio_)\n",
    "        if u >= 0.9 and not k:\n",
    "            tr_pca_1 = tr\n",
    "            te_pca_1 = te\n",
    "            k = True\n",
    "        print(u)\n",
    "        print(u, file=f)"
   ]
  },
  {
   "cell_type": "code",
   "execution_count": 47,
   "metadata": {},
   "outputs": [
    {
     "name": "stdout",
     "output_type": "stream",
     "text": [
      "PoV = 0.901 > 0.9 achieved at 26 dimensions\n"
     ]
    },
    {
     "data": {
      "image/png": "[encoded data removed]",
      "text/plain": [
       "<Figure size 640x480 with 1 Axes>"
      ]
     },
     "metadata": {},
     "output_type": "display_data"
    }
   ],
   "source": [
    "import matplotlib.pyplot as plt\n",
    "import pandas as pd\n",
    "\n",
    "df = pd.read_csv('pca.csv')\n",
    "\n",
    "plt.plot(range(1, 33), df['v'])\n",
    "plt.xlabel('Number of Components')\n",
    "plt.ylabel('Proportion of Variance') #for each component\n",
    "v = 0\n",
    "for i in range(1, 33, 3):\n",
    "    plt.annotate(f'({i}, {df[\"v\"][i-1]:.2f})', (i, df['v'][i-1]))\n",
    "    if df['v'][i-1] >= 0.9:\n",
    "        v = i\n",
    "        break   \n",
    "\n",
    "plt.plot(np.linspace(1, 32, 320), [0.9] * 320)\n",
    "plt.plot([v - 2] * 320, np.linspace(0.6, 1.0, 320))\n",
    "print(f'PoV = {df[\"v\"][25]:.3f} > 0.9 achieved at 26 dimensions')\n",
    "plt.show()"
   ]
  },
  {
   "cell_type": "code",
   "execution_count": 25,
   "metadata": {},
   "outputs": [],
   "source": [
    "def train_pca(i) -> (PCA, np.ndarray, np.ndarray):\n",
    "    pca = PCA(n_components=i)\n",
    "    pca.fit(train_data.reshape(train_data.shape[0], -1))\n",
    "    train_data_pca = pca.transform(train_data.reshape(train_data.shape[0], -1))\n",
    "    test_data_pca = pca.transform(test_data.reshape(test_data.shape[0], -1))\n",
    "    return pca, train_data_pca, test_data_pca\n"
   ]
  },
  {
   "cell_type": "code",
   "execution_count": 50,
   "metadata": {},
   "outputs": [
    {
     "name": "stdout",
     "output_type": "stream",
     "text": [
      "[[ 0.0175361   0.01820365  0.01876029 ...  0.01695385  0.01756518\n",
      "   0.01805227]\n",
      " [ 0.01909275  0.02145568  0.02094557 ... -0.01947351 -0.02131272\n",
      "  -0.02016714]\n",
      " [-0.01831693 -0.01426355 -0.00251158 ... -0.01803384 -0.01372899\n",
      "  -0.00148765]\n",
      " ...\n",
      " [-0.02583135 -0.02121578 -0.01669463 ...  0.00746618  0.01371316\n",
      "   0.01832134]\n",
      " [ 0.00784862  0.00933181  0.00781459 ...  0.02507099  0.02734569\n",
      "   0.02488773]\n",
      " [ 0.00365691  0.00447148  0.00506534 ... -0.01612105 -0.01682271\n",
      "  -0.01692168]]\n",
      "[4564213.3655362   450075.68025025  416208.84452809  319301.63895299\n",
      "  170712.32442912  141160.12103772  121683.47318154  117230.72970629\n",
      "   98201.88594926   89717.71288833]\n"
     ]
    },
    {
     "ename": "TypeError",
     "evalue": "'zip' object is not subscriptable",
     "output_type": "error",
     "traceback": [
      "\u001b[0;31m---------------------------------------------------------------------------\u001b[0m",
      "\u001b[0;31mTypeError\u001b[0m                                 Traceback (most recent call last)",
      "\u001b[1;32m/Users/abhay/Code/Courses/FOML/Assignments/Assignment_2/code/q1.ipynb Cell 5\u001b[0m line \u001b[0;36m7\n\u001b[1;32m      <a href='vscode-notebook-cell:/Users/abhay/Code/Courses/FOML/Assignments/Assignment_2/code/q1.ipynb#W6sZmlsZQ%3D%3D?line=4'>5</a>\u001b[0m \u001b[39m# find the position of the first occurence of every label in tr_pca_2\u001b[39;00m\n\u001b[1;32m      <a href='vscode-notebook-cell:/Users/abhay/Code/Courses/FOML/Assignments/Assignment_2/code/q1.ipynb#W6sZmlsZQ%3D%3D?line=5'>6</a>\u001b[0m zipped \u001b[39m=\u001b[39m \u001b[39mzip\u001b[39m(tr_pca_2, train_labels)\n\u001b[0;32m----> <a href='vscode-notebook-cell:/Users/abhay/Code/Courses/FOML/Assignments/Assignment_2/code/q1.ipynb#W6sZmlsZQ%3D%3D?line=6'>7</a>\u001b[0m \u001b[39mprint\u001b[39m([np\u001b[39m.\u001b[39;49mwhere(zipped[\u001b[39m1\u001b[39;49m] \u001b[39m==\u001b[39;49m i, zipped[\u001b[39m0\u001b[39;49m])[\u001b[39m0\u001b[39;49m][\u001b[39m0\u001b[39;49m] \u001b[39mfor\u001b[39;49;00m i \u001b[39min\u001b[39;49;00m \u001b[39mrange\u001b[39;49m(\u001b[39m1\u001b[39;49m, \u001b[39m11\u001b[39;49m)])\n\u001b[1;32m      <a href='vscode-notebook-cell:/Users/abhay/Code/Courses/FOML/Assignments/Assignment_2/code/q1.ipynb#W6sZmlsZQ%3D%3D?line=7'>8</a>\u001b[0m \u001b[39mprint\u001b[39m([pca\u001b[39m.\u001b[39minverse_transform(tr_pca_2[i]) \u001b[39mfor\u001b[39;00m i \u001b[39min\u001b[39;00m \u001b[39mrange\u001b[39m(\u001b[39m10\u001b[39m)])\n",
      "\u001b[1;32m/Users/abhay/Code/Courses/FOML/Assignments/Assignment_2/code/q1.ipynb Cell 5\u001b[0m line \u001b[0;36m7\n\u001b[1;32m      <a href='vscode-notebook-cell:/Users/abhay/Code/Courses/FOML/Assignments/Assignment_2/code/q1.ipynb#W6sZmlsZQ%3D%3D?line=4'>5</a>\u001b[0m \u001b[39m# find the position of the first occurence of every label in tr_pca_2\u001b[39;00m\n\u001b[1;32m      <a href='vscode-notebook-cell:/Users/abhay/Code/Courses/FOML/Assignments/Assignment_2/code/q1.ipynb#W6sZmlsZQ%3D%3D?line=5'>6</a>\u001b[0m zipped \u001b[39m=\u001b[39m \u001b[39mzip\u001b[39m(tr_pca_2, train_labels)\n\u001b[0;32m----> <a href='vscode-notebook-cell:/Users/abhay/Code/Courses/FOML/Assignments/Assignment_2/code/q1.ipynb#W6sZmlsZQ%3D%3D?line=6'>7</a>\u001b[0m \u001b[39mprint\u001b[39m([np\u001b[39m.\u001b[39mwhere(zipped[\u001b[39m1\u001b[39;49m] \u001b[39m==\u001b[39m i, zipped[\u001b[39m0\u001b[39m])[\u001b[39m0\u001b[39m][\u001b[39m0\u001b[39m] \u001b[39mfor\u001b[39;00m i \u001b[39min\u001b[39;00m \u001b[39mrange\u001b[39m(\u001b[39m1\u001b[39m, \u001b[39m11\u001b[39m)])\n\u001b[1;32m      <a href='vscode-notebook-cell:/Users/abhay/Code/Courses/FOML/Assignments/Assignment_2/code/q1.ipynb#W6sZmlsZQ%3D%3D?line=7'>8</a>\u001b[0m \u001b[39mprint\u001b[39m([pca\u001b[39m.\u001b[39minverse_transform(tr_pca_2[i]) \u001b[39mfor\u001b[39;00m i \u001b[39min\u001b[39;00m \u001b[39mrange\u001b[39m(\u001b[39m10\u001b[39m)])\n",
      "\u001b[0;31mTypeError\u001b[0m: 'zip' object is not subscriptable"
     ]
    }
   ],
   "source": [
    "pca, tr_pca_2, te_pca_2 = train_pca(10)\n",
    "\n",
    "\n"
   ]
  },
  {
   "cell_type": "code",
   "execution_count": 65,
   "metadata": {},
   "outputs": [
    {
     "name": "stdout",
     "output_type": "stream",
     "text": [
      "[[ 0.0175361   0.01820365  0.01876029 ...  0.01695385  0.01756518\n",
      "   0.01805227]\n",
      " [ 0.01909275  0.02145568  0.02094557 ... -0.01947351 -0.02131272\n",
      "  -0.02016714]\n",
      " [-0.01831693 -0.01426355 -0.00251158 ... -0.01803384 -0.01372899\n",
      "  -0.00148765]\n",
      " ...\n",
      " [-0.02583135 -0.02121578 -0.01669463 ...  0.00746618  0.01371316\n",
      "   0.01832134]\n",
      " [ 0.00784862  0.00933181  0.00781459 ...  0.02507099  0.02734569\n",
      "   0.02488773]\n",
      " [ 0.00365691  0.00447148  0.00506534 ... -0.01612105 -0.01682271\n",
      "  -0.01692168]]\n",
      "[4564213.3655362   450075.68025025  416208.84452809  319301.63895299\n",
      "  170712.32442912  141160.12103772  121683.47318154  117230.72970629\n",
      "   98201.88594926   89717.71288833]\n"
     ]
    }
   ],
   "source": [
    "print(pca.components_)\n",
    "print(pca.explained_variance_)"
   ]
  },
  {
   "cell_type": "code",
   "execution_count": 63,
   "metadata": {},
   "outputs": [
    {
     "name": "stdout",
     "output_type": "stream",
     "text": [
      "[-2851.8587608865455, -304.0618724734884, -340.7486167772137, 668.0064617679565, 178.63597388193068, -41.798406145901794, -346.5563651383406, 260.7572522958166, 343.4461003471446, 112.35546584921136]\n",
      "[3857.528874610815, -443.666524923529, 2121.7112646237993, 832.0778585885367, -780.6836401550343, 442.2700941339966, -399.97780531440515, 514.1463889905223, -318.8308728849787, -317.00221651858647]\n",
      "[4029.9868051950702, 219.811067250671, 2093.29238256439, 1086.8746684293383, -941.3900700423462, -605.2020219254831, 631.6660557421462, 787.9847961996089, 195.64605968085814, -254.09133778674976]\n",
      "[2908.551523411724, 252.57967213983085, -166.95711972682966, 364.94737434535944, -196.29418229454194, -285.70355851164254, -49.954788225502206, -26.86006781056821, 77.10038843533749, -540.2142704255513]\n",
      "[700.5033864157293, 236.54488719802083, -111.94405859349817, 234.40251352397365, -396.2576044632042, 116.21349833331966, 170.6759309536693, 152.83848684155095, 202.94182274768372, -69.61096860695791]\n",
      "[-129.2106294552691, 1947.077832556053, 434.2694814834308, 871.6237157650077, -237.36658671772847, -113.46754901602773, -9.22592711904452, -498.9782343873711, -642.6267444842777, -310.86940473185194]\n",
      "[2950.2416705675123, -274.1490613865119, -2.0067859016042178, 391.22781278515924, 51.02990255845114, 304.0319756638353, -1.387495070573113, 111.9846290841295, 98.4313355232199, 107.97522861037766]\n",
      "[834.9248214518261, -1034.877513925019, -966.1194710102542, -198.23979958250482, 129.4197957613994, -381.164022599607, 349.7996881174702, 334.6713464802759, -126.40611392487764, -96.15337906817427]\n",
      "[-2317.106462009476, -454.44901113510144, -567.6188482702071, 6.584655233251234, 317.0220336819499, -134.5626378456065, 166.94366831003728, 427.2651916198492, 247.48867788981954, 3.6367928248443064]\n",
      "[-1022.6694440386743, -241.64984948516948, -947.4459221036719, 381.67929228565674, 276.56495587179825, 50.57307189740195, 115.70417735939708, -480.37958135685665, 89.14744398893231, -80.34337811228333]\n"
     ]
    }
   ],
   "source": [
    "# find the position of the first occurence of every label in tr_pca_2\n",
    "zipped = list(zip(tr_pca_2, train_labels))\n",
    "srt = sorted(zipped, key=lambda x: x[1])\n",
    "# print(srt[0])\n",
    "x = -1\n",
    "for i in srt:\n",
    "    if i[1] != x:\n",
    "        print(list(i[0]))\n",
    "        x = i[1]"
   ]
  },
  {
   "cell_type": "code",
   "execution_count": 69,
   "metadata": {},
   "outputs": [
    {
     "name": "stderr",
     "output_type": "stream",
     "text": [
      "/opt/homebrew/lib/python3.11/site-packages/sklearn/neighbors/_classification.py:233: DataConversionWarning: A column-vector y was passed when a 1d array was expected. Please change the shape of y to (n_samples,), for example using ravel().\n",
      "  return self._fit(X, y)\n"
     ]
    },
    {
     "ename": "KeyboardInterrupt",
     "evalue": "",
     "output_type": "error",
     "traceback": [
      "\u001b[0;31m---------------------------------------------------------------------------\u001b[0m",
      "\u001b[0;31mKeyboardInterrupt\u001b[0m                         Traceback (most recent call last)",
      "\u001b[1;32m/Users/abhay/Code/Courses/FOML/Assignments/Assignment_2/code/q1.ipynb Cell 8\u001b[0m line \u001b[0;36m1\n\u001b[1;32m     <a href='vscode-notebook-cell:/Users/abhay/Code/Courses/FOML/Assignments/Assignment_2/code/q1.ipynb#W5sZmlsZQ%3D%3D?line=10'>11</a>\u001b[0m     z \u001b[39m=\u001b[39m accuracy_score(test_labels, knn\u001b[39m.\u001b[39mpredict(te_pca_1))\n\u001b[1;32m     <a href='vscode-notebook-cell:/Users/abhay/Code/Courses/FOML/Assignments/Assignment_2/code/q1.ipynb#W5sZmlsZQ%3D%3D?line=11'>12</a>\u001b[0m     \u001b[39mreturn\u001b[39;00m (x, y, z)\n\u001b[0;32m---> <a href='vscode-notebook-cell:/Users/abhay/Code/Courses/FOML/Assignments/Assignment_2/code/q1.ipynb#W5sZmlsZQ%3D%3D?line=13'>14</a>\u001b[0m (knn(\u001b[39m5\u001b[39;49m), knn(\u001b[39m7\u001b[39m))\n",
      "\u001b[1;32m/Users/abhay/Code/Courses/FOML/Assignments/Assignment_2/code/q1.ipynb Cell 8\u001b[0m line \u001b[0;36m7\n\u001b[1;32m      <a href='vscode-notebook-cell:/Users/abhay/Code/Courses/FOML/Assignments/Assignment_2/code/q1.ipynb#W5sZmlsZQ%3D%3D?line=4'>5</a>\u001b[0m knn \u001b[39m=\u001b[39m KNeighborsClassifier(n_neighbors\u001b[39m=\u001b[39mk)\n\u001b[1;32m      <a href='vscode-notebook-cell:/Users/abhay/Code/Courses/FOML/Assignments/Assignment_2/code/q1.ipynb#W5sZmlsZQ%3D%3D?line=5'>6</a>\u001b[0m knn\u001b[39m.\u001b[39mfit(train_data\u001b[39m.\u001b[39mreshape(train_data\u001b[39m.\u001b[39mshape[\u001b[39m0\u001b[39m], \u001b[39m-\u001b[39m\u001b[39m1\u001b[39m), train_labels)\n\u001b[0;32m----> <a href='vscode-notebook-cell:/Users/abhay/Code/Courses/FOML/Assignments/Assignment_2/code/q1.ipynb#W5sZmlsZQ%3D%3D?line=6'>7</a>\u001b[0m x \u001b[39m=\u001b[39m accuracy_score(test_labels, knn\u001b[39m.\u001b[39;49mpredict(test_data\u001b[39m.\u001b[39;49mreshape(test_data\u001b[39m.\u001b[39;49mshape[\u001b[39m0\u001b[39;49m], \u001b[39m-\u001b[39;49m\u001b[39m1\u001b[39;49m)))\n\u001b[1;32m      <a href='vscode-notebook-cell:/Users/abhay/Code/Courses/FOML/Assignments/Assignment_2/code/q1.ipynb#W5sZmlsZQ%3D%3D?line=7'>8</a>\u001b[0m knn\u001b[39m.\u001b[39mfit(tr_pca_1, train_labels)\n\u001b[1;32m      <a href='vscode-notebook-cell:/Users/abhay/Code/Courses/FOML/Assignments/Assignment_2/code/q1.ipynb#W5sZmlsZQ%3D%3D?line=8'>9</a>\u001b[0m y \u001b[39m=\u001b[39m accuracy_score(test_labels, knn\u001b[39m.\u001b[39mpredict(te_pca_1))\n",
      "File \u001b[0;32m/opt/homebrew/lib/python3.11/site-packages/sklearn/neighbors/_classification.py:266\u001b[0m, in \u001b[0;36mKNeighborsClassifier.predict\u001b[0;34m(self, X)\u001b[0m\n\u001b[1;32m    263\u001b[0m         \u001b[39mreturn\u001b[39;00m \u001b[39mself\u001b[39m\u001b[39m.\u001b[39mclasses_[np\u001b[39m.\u001b[39margmax(probabilities, axis\u001b[39m=\u001b[39m\u001b[39m1\u001b[39m)]\n\u001b[1;32m    264\u001b[0m     \u001b[39m# In that case, we do not need the distances to perform\u001b[39;00m\n\u001b[1;32m    265\u001b[0m     \u001b[39m# the weighting so we do not compute them.\u001b[39;00m\n\u001b[0;32m--> 266\u001b[0m     neigh_ind \u001b[39m=\u001b[39m \u001b[39mself\u001b[39;49m\u001b[39m.\u001b[39;49mkneighbors(X, return_distance\u001b[39m=\u001b[39;49m\u001b[39mFalse\u001b[39;49;00m)\n\u001b[1;32m    267\u001b[0m     neigh_dist \u001b[39m=\u001b[39m \u001b[39mNone\u001b[39;00m\n\u001b[1;32m    268\u001b[0m \u001b[39melse\u001b[39;00m:\n",
      "File \u001b[0;32m/opt/homebrew/lib/python3.11/site-packages/sklearn/neighbors/_base.py:859\u001b[0m, in \u001b[0;36mKNeighborsMixin.kneighbors\u001b[0;34m(self, X, n_neighbors, return_distance)\u001b[0m\n\u001b[1;32m    856\u001b[0m     \u001b[39melse\u001b[39;00m:\n\u001b[1;32m    857\u001b[0m         kwds \u001b[39m=\u001b[39m \u001b[39mself\u001b[39m\u001b[39m.\u001b[39meffective_metric_params_\n\u001b[0;32m--> 859\u001b[0m     chunked_results \u001b[39m=\u001b[39m \u001b[39mlist\u001b[39;49m(\n\u001b[1;32m    860\u001b[0m         pairwise_distances_chunked(\n\u001b[1;32m    861\u001b[0m             X,\n\u001b[1;32m    862\u001b[0m             \u001b[39mself\u001b[39;49m\u001b[39m.\u001b[39;49m_fit_X,\n\u001b[1;32m    863\u001b[0m             reduce_func\u001b[39m=\u001b[39;49mreduce_func,\n\u001b[1;32m    864\u001b[0m             metric\u001b[39m=\u001b[39;49m\u001b[39mself\u001b[39;49m\u001b[39m.\u001b[39;49meffective_metric_,\n\u001b[1;32m    865\u001b[0m             n_jobs\u001b[39m=\u001b[39;49mn_jobs,\n\u001b[1;32m    866\u001b[0m             \u001b[39m*\u001b[39;49m\u001b[39m*\u001b[39;49mkwds,\n\u001b[1;32m    867\u001b[0m         )\n\u001b[1;32m    868\u001b[0m     )\n\u001b[1;32m    870\u001b[0m \u001b[39melif\u001b[39;00m \u001b[39mself\u001b[39m\u001b[39m.\u001b[39m_fit_method \u001b[39min\u001b[39;00m [\u001b[39m\"\u001b[39m\u001b[39mball_tree\u001b[39m\u001b[39m\"\u001b[39m, \u001b[39m\"\u001b[39m\u001b[39mkd_tree\u001b[39m\u001b[39m\"\u001b[39m]:\n\u001b[1;32m    871\u001b[0m     \u001b[39mif\u001b[39;00m issparse(X):\n",
      "File \u001b[0;32m/opt/homebrew/lib/python3.11/site-packages/sklearn/metrics/pairwise.py:2018\u001b[0m, in \u001b[0;36mpairwise_distances_chunked\u001b[0;34m(X, Y, reduce_func, metric, n_jobs, working_memory, **kwds)\u001b[0m\n\u001b[1;32m   2016\u001b[0m \u001b[39melse\u001b[39;00m:\n\u001b[1;32m   2017\u001b[0m     X_chunk \u001b[39m=\u001b[39m X[sl]\n\u001b[0;32m-> 2018\u001b[0m D_chunk \u001b[39m=\u001b[39m pairwise_distances(X_chunk, Y, metric\u001b[39m=\u001b[39;49mmetric, n_jobs\u001b[39m=\u001b[39;49mn_jobs, \u001b[39m*\u001b[39;49m\u001b[39m*\u001b[39;49mkwds)\n\u001b[1;32m   2019\u001b[0m \u001b[39mif\u001b[39;00m (X \u001b[39mis\u001b[39;00m Y \u001b[39mor\u001b[39;00m Y \u001b[39mis\u001b[39;00m \u001b[39mNone\u001b[39;00m) \u001b[39mand\u001b[39;00m PAIRWISE_DISTANCE_FUNCTIONS\u001b[39m.\u001b[39mget(\n\u001b[1;32m   2020\u001b[0m     metric, \u001b[39mNone\u001b[39;00m\n\u001b[1;32m   2021\u001b[0m ) \u001b[39mis\u001b[39;00m euclidean_distances:\n\u001b[1;32m   2022\u001b[0m     \u001b[39m# zeroing diagonal, taking care of aliases of \"euclidean\",\u001b[39;00m\n\u001b[1;32m   2023\u001b[0m     \u001b[39m# i.e. \"l2\"\u001b[39;00m\n\u001b[1;32m   2024\u001b[0m     D_chunk\u001b[39m.\u001b[39mflat[sl\u001b[39m.\u001b[39mstart :: _num_samples(X) \u001b[39m+\u001b[39m \u001b[39m1\u001b[39m] \u001b[39m=\u001b[39m \u001b[39m0\u001b[39m\n",
      "File \u001b[0;32m/opt/homebrew/lib/python3.11/site-packages/sklearn/metrics/pairwise.py:2196\u001b[0m, in \u001b[0;36mpairwise_distances\u001b[0;34m(X, Y, metric, n_jobs, force_all_finite, **kwds)\u001b[0m\n\u001b[1;32m   2193\u001b[0m         \u001b[39mreturn\u001b[39;00m distance\u001b[39m.\u001b[39msquareform(distance\u001b[39m.\u001b[39mpdist(X, metric\u001b[39m=\u001b[39mmetric, \u001b[39m*\u001b[39m\u001b[39m*\u001b[39mkwds))\n\u001b[1;32m   2194\u001b[0m     func \u001b[39m=\u001b[39m partial(distance\u001b[39m.\u001b[39mcdist, metric\u001b[39m=\u001b[39mmetric, \u001b[39m*\u001b[39m\u001b[39m*\u001b[39mkwds)\n\u001b[0;32m-> 2196\u001b[0m \u001b[39mreturn\u001b[39;00m _parallel_pairwise(X, Y, func, n_jobs, \u001b[39m*\u001b[39;49m\u001b[39m*\u001b[39;49mkwds)\n",
      "File \u001b[0;32m/opt/homebrew/lib/python3.11/site-packages/sklearn/metrics/pairwise.py:1766\u001b[0m, in \u001b[0;36m_parallel_pairwise\u001b[0;34m(X, Y, func, n_jobs, **kwds)\u001b[0m\n\u001b[1;32m   1763\u001b[0m X, Y, dtype \u001b[39m=\u001b[39m _return_float_dtype(X, Y)\n\u001b[1;32m   1765\u001b[0m \u001b[39mif\u001b[39;00m effective_n_jobs(n_jobs) \u001b[39m==\u001b[39m \u001b[39m1\u001b[39m:\n\u001b[0;32m-> 1766\u001b[0m     \u001b[39mreturn\u001b[39;00m func(X, Y, \u001b[39m*\u001b[39;49m\u001b[39m*\u001b[39;49mkwds)\n\u001b[1;32m   1768\u001b[0m \u001b[39m# enforce a threading backend to prevent data communication overhead\u001b[39;00m\n\u001b[1;32m   1769\u001b[0m fd \u001b[39m=\u001b[39m delayed(_dist_wrapper)\n",
      "\u001b[0;31mKeyboardInterrupt\u001b[0m: "
     ]
    }
   ],
   "source": [
    "# run k-NN on data\n",
    "from sklearn.neighbors import KNeighborsClassifier\n",
    "from sklearn.metrics import accuracy_score\n",
    "def knn(k) -> (float, float, float):\n",
    "    knn = KNeighborsClassifier(n_neighbors=k)\n",
    "    knn.fit(train_data.reshape(train_data.shape[0], -1), train_labels)\n",
    "    x = accuracy_score(test_labels, knn.predict(test_data.reshape(test_data.shape[0], -1)))\n",
    "    knn.fit(tr_pca_1, train_labels)\n",
    "    y = accuracy_score(test_labels, knn.predict(te_pca_1))\n",
    "    knn.fit(tr_pca_1, train_labels)\n",
    "    z = accuracy_score(test_labels, knn.predict(te_pca_1))\n",
    "    return (x, y, z)\n",
    "\n",
    "(knn(5), knn(7))"
   ]
  },
  {
   "cell_type": "code",
   "execution_count": 68,
   "metadata": {},
   "outputs": [
    {
     "data": {
      "text/plain": [
       "(26032, 1)"
      ]
     },
     "execution_count": 68,
     "metadata": {},
     "output_type": "execute_result"
    }
   ],
   "source": [
    "test_labels.shape"
   ]
  }
 ],
 "metadata": {
  "kernelspec": {
   "display_name": "Python 3",
   "language": "python",
   "name": "python3"
  },
  "language_info": {
   "codemirror_mode": {
    "name": "ipython",
    "version": 3
   },
   "file_extension": ".py",
   "mimetype": "text/x-python",
   "name": "python",
   "nbconvert_exporter": "python",
   "pygments_lexer": "ipython3",
   "version": "3.11.5"
  }
 },
 "nbformat": 4,
 "nbformat_minor": 2
}
