{
 "cells": [
  {
   "cell_type": "code",
   "execution_count": 15,
   "metadata": {},
   "outputs": [],
   "source": [
    "# import everything\n",
    "import numpy as np\n",
    "import pandas as pd\n",
    "from sklearn.preprocessing import StandardScaler\n",
    "from sklearn.neighbors import KNeighborsClassifier\n",
    "from sklearn.metrics import accuracy_score\n",
    "from sklearn.metrics import f1_score\n",
    "from sklearn.model_selection import train_test_split\n",
    "from sklearn.ensemble import RandomForestClassifier\n"
   ]
  },
  {
   "cell_type": "code",
   "execution_count": 16,
   "metadata": {},
   "outputs": [],
   "source": [
    "# read data\n",
    "\n",
    "train = pd.read_csv('train.csv')\n",
    "test_data = pd.read_csv('test.csv')\n",
    "\n",
    "# get data and labels\n",
    "train_data = train.drop(['Target Variable (Discrete)'], axis=1)\n",
    "train_labels = train['Target Variable (Discrete)']\n",
    "\n",
    "# standardize data\n",
    "scaler = StandardScaler()\n",
    "scaler.fit(train_data)\n",
    "train_data_ = scaler.transform(train_data)\n",
    "\n",
    "# black magic\n",
    "train_data_ = np.concatenate((train_data_, train_data_))\n",
    "train_labels = np.concatenate((train_labels, train_labels))\n",
    "\n",
    "# split data into train and validation\n",
    "# train_data, val_data, train_labels, val_labels = train_test_split(train_data_, train_labels, test_size=0.2, random_state=42)\n",
    "\n",
    "test_data = scaler.transform(test_data)\n",
    "\n",
    "# print shapes\n",
    "# train_data.shape, train_labels.shape, val_data.shape, val_labels.shape, test_data.shape\n"
   ]
  },
  {
   "cell_type": "code",
   "execution_count": 17,
   "metadata": {},
   "outputs": [],
   "source": [
    "# knn imputer\n",
    "def knn_imputer(train_data, val_data, test_data, k):\n",
    "    from sklearn.impute import KNNImputer\n",
    "    imputer = KNNImputer(n_neighbors=k)\n",
    "    all_imp = imputer.fit_transform(train_data_)\n",
    "    train_data_imp = imputer.transform(train_data)\n",
    "    val_data_imp = imputer.transform(val_data)\n",
    "    test_data_imp = imputer.transform(test_data)\n",
    "    return train_data_imp, val_data_imp, test_data_imp, all_imp\n",
    "\n",
    "def median_imputer(train_data, test_data):\n",
    "    from sklearn.impute import SimpleImputer\n",
    "    imputer = SimpleImputer(strategy='median')\n",
    "    train_data_imp = imputer.fit_transform(train_data)\n",
    "    test_data_imp = imputer.transform(test_data)\n",
    "    return train_data_imp, test_data_imp\n",
    "\n",
    "# PCA\n",
    "from sklearn.decomposition import PCA\n",
    "\n",
    "def pca(train_data, val_data, test_data, n):\n",
    "    pca = PCA(n_components=n)\n",
    "    pca.fit(train_data)\n",
    "    train_data_pca = pca.transform(train_data)\n",
    "    val_data_pca = pca.transform(val_data)\n",
    "    test_data_pca = pca.transform(test_data)\n",
    "    return train_data_pca, val_data_pca, test_data_pca\n",
    "\n",
    "# augment data\n",
    "\n",
    "def augment_data(train_data, train_labels):\n",
    "    from imblearn.over_sampling import RandomOverSampler\n",
    "    oversample = RandomOverSampler()\n",
    "    train_data_aug, train_labels_aug = oversample.fit_resample(train_data, train_labels)\n",
    "    return train_data_aug, train_labels_aug"
   ]
  },
  {
   "cell_type": "code",
   "execution_count": 18,
   "metadata": {},
   "outputs": [],
   "source": [
    "train_data_, test_data = median_imputer(train_data_, test_data)\n",
    "train_data, val_data, train_labels, val_labels = train_test_split(train_data_, train_labels, test_size=0.2, random_state=42)\n",
    "\n",
    "train_data_aug, train_labels_aug = augment_data(train_data, train_labels)\n",
    "# train_data.shape, train_labels.shape, val_data.shape, val_labels.shape, test_data.shape\n",
    "# train_data_imp.shape, val_data_imp.shape, test_data_imp.shape"
   ]
  },
  {
   "cell_type": "code",
   "execution_count": 28,
   "metadata": {},
   "outputs": [],
   "source": [
    "train_data_pca, val_data_pca, test_data_pca = pca(train_data_aug, val_data, test_data, 15)"
   ]
  },
  {
   "cell_type": "code",
   "execution_count": 39,
   "metadata": {},
   "outputs": [
    {
     "data": {
      "text/plain": [
       "(0.9020100502512562, 0.835699821039159)"
      ]
     },
     "execution_count": 39,
     "metadata": {},
     "output_type": "execute_result"
    }
   ],
   "source": [
    "knn = KNeighborsClassifier(n_neighbors=7, p=3)\n",
    "knn.fit(train_data_pca, train_labels_aug)\n",
    "knn_pred = knn.predict(val_data_pca)\n",
    "accuracy_score(val_labels, knn_pred), f1_score(val_labels, knn_pred, average='macro')"
   ]
  },
  {
   "cell_type": "code",
   "execution_count": 41,
   "metadata": {},
   "outputs": [
    {
     "data": {
      "text/plain": [
       "array([ 86, 208,  54,   7,   3,  27,  30,   0,   2,   0,   0,   0,   2,\n",
       "         2,   2,   3,   0,   0])"
      ]
     },
     "execution_count": 41,
     "metadata": {},
     "output_type": "execute_result"
    }
   ],
   "source": [
    "y_pred = knn.predict(test_data_pca)\n",
    "np.bincount(y_pred, minlength=18)"
   ]
  },
  {
   "cell_type": "code",
   "execution_count": null,
   "metadata": {},
   "outputs": [],
   "source": [
    "y_pred = pd.DataFrame(np.array([(i + 1, v) for i, v in enumerate(y_pred)]))\n",
    "y_pred.columns = ['Id', 'Target Variable (Discrete)']\n",
    "y_pred.to_csv('knn_7_p3.csv', index=False)"
   ]
  }
 ],
 "metadata": {
  "kernelspec": {
   "display_name": "Python 3",
   "language": "python",
   "name": "python3"
  },
  "language_info": {
   "codemirror_mode": {
    "name": "ipython",
    "version": 3
   },
   "file_extension": ".py",
   "mimetype": "text/x-python",
   "name": "python",
   "nbconvert_exporter": "python",
   "pygments_lexer": "ipython3",
   "version": "3.11.5"
  }
 },
 "nbformat": 4,
 "nbformat_minor": 2
}
