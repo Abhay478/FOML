{
 "cells": [
  {
   "cell_type": "code",
   "execution_count": null,
   "metadata": {},
   "outputs": [],
   "source": [
    "# import everything\n",
    "import numpy as np\n",
    "import pandas as pd\n",
    "from sklearn.preprocessing import StandardScaler\n",
    "from sklearn.neighbors import KNeighborsClassifier\n",
    "from sklearn.metrics import accuracy_score\n",
    "from sklearn.metrics import f1_score\n",
    "from sklearn.model_selection import train_test_split\n",
    "from sklearn.ensemble import RandomForestClassifier\n"
   ]
  },
  {
   "cell_type": "code",
   "execution_count": null,
   "metadata": {},
   "outputs": [],
   "source": [
    "# read data\n",
    "\n",
    "train = pd.read_csv('train.csv')\n",
    "test_data = pd.read_csv('test.csv')\n",
    "\n",
    "# get data and labels\n",
    "train_data = train.drop(['Target Variable (Discrete)'], axis=1)\n",
    "train_labels = train['Target Variable (Discrete)']\n",
    "\n",
    "# standardize data\n",
    "scaler = StandardScaler()\n",
    "scaler.fit(train_data)\n",
    "train_data_ = scaler.transform(train_data)\n",
    "\n",
    "# black magic\n",
    "# train_data_ = np.concatenate((train_data_, train_data_, train_data_))\n",
    "# train_labels = np.concatenate((train_labels, train_labels, train_labels))\n",
    "\n",
    "# split data into train and validation\n",
    "train_data, val_data, train_labels, val_labels = train_test_split(train_data_, train_labels, test_size=0.2, random_state=42)\n",
    "\n",
    "test_data = scaler.transform(test_data)\n",
    "\n",
    "# print shapes\n",
    "train_data.shape, train_labels.shape, val_data.shape, val_labels.shape, test_data.shape\n"
   ]
  },
  {
   "cell_type": "code",
   "execution_count": null,
   "metadata": {},
   "outputs": [],
   "source": [
    "np.bincount(train_labels) + np.bincount(val_labels, minlength=18)"
   ]
  },
  {
   "cell_type": "code",
   "execution_count": null,
   "metadata": {},
   "outputs": [],
   "source": [
    "# knn imputer\n",
    "def knn_imputer(train_data, val_data, test_data, k):\n",
    "    from sklearn.impute import KNNImputer\n",
    "    imputer = KNNImputer(n_neighbors=k)\n",
    "    all_imp = imputer.fit_transform(train_data_)\n",
    "    train_data_imp = imputer.transform(train_data)\n",
    "    val_data_imp = imputer.transform(val_data)\n",
    "    test_data_imp = imputer.transform(test_data)\n",
    "    return train_data_imp, val_data_imp, test_data_imp, all_imp\n",
    "\n",
    "def median_imputer(train_data, val_data, test_data):\n",
    "    from sklearn.impute import SimpleImputer\n",
    "    imputer = SimpleImputer(strategy='median')\n",
    "    all_imp = imputer.fit_transform(train_data_)\n",
    "    train_data_imp = imputer.transform(train_data)\n",
    "    val_data_imp = imputer.transform(val_data)\n",
    "    test_data_imp = imputer.transform(test_data)\n",
    "    return train_data_imp, val_data_imp, test_data_imp, all_imp\n",
    "\n",
    "# PCA\n",
    "from sklearn.decomposition import PCA\n",
    "\n",
    "def pca(train_data, val_data, test_data, n):\n",
    "    pca = PCA(n_components=n)\n",
    "    pca.fit(train_data)\n",
    "    train_data_pca = pca.transform(train_data)\n",
    "    val_data_pca = pca.transform(val_data)\n",
    "    test_data_pca = pca.transform(test_data)\n",
    "    return train_data_pca, val_data_pca, test_data_pca\n",
    "\n",
    "# augment data\n",
    "\n",
    "def augment_data(train_data, train_labels):\n",
    "    from imblearn.over_sampling import RandomOverSampler\n",
    "    oversample = RandomOverSampler()\n",
    "    train_data_aug, train_labels_aug = oversample.fit_resample(train_data, train_labels)\n",
    "    return train_data_aug, train_labels_aug"
   ]
  },
  {
   "cell_type": "code",
   "execution_count": null,
   "metadata": {},
   "outputs": [],
   "source": [
    "train_data, train_labels = augment_data(train_data, train_labels)\n",
    "val_data, val_labels = augment_data(val_data, val_labels)"
   ]
  },
  {
   "cell_type": "code",
   "execution_count": null,
   "metadata": {},
   "outputs": [],
   "source": [
    "train_data.shape, train_labels.shape, val_data.shape, val_labels.shape, test_data.shape"
   ]
  },
  {
   "cell_type": "code",
   "execution_count": null,
   "metadata": {},
   "outputs": [],
   "source": [
    "# train_data_imp, val_data_imp, test_data_imp, all_imp = knn_imputer(train_data, val_data, test_data, 7)\n",
    "train_data_imp, val_data_imp, test_data_imp, all_imp = median_imputer(train_data, val_data, test_data)\n",
    "train_data_imp.shape, val_data_imp.shape, test_data_imp.shape"
   ]
  },
  {
   "cell_type": "code",
   "execution_count": null,
   "metadata": {},
   "outputs": [],
   "source": [
    "train_data_pca, val_data_pca, test_data_pca = pca(train_data_imp, val_data_imp, test_data_imp, 15)"
   ]
  },
  {
   "cell_type": "code",
   "execution_count": null,
   "metadata": {},
   "outputs": [],
   "source": [
    "# train_data_aug, train_labels_aug = augment_data(train_data_pca, train_labels)\n",
    "# val_data_aug, val_labels_aug = augment_data(val_data_pca, val_labels)\n",
    "\n",
    "train_data_aug, train_labels_aug = train_data_pca, train_labels\n",
    "val_data_aug, val_labels_aug = val_data_pca, val_labels"
   ]
  },
  {
   "cell_type": "code",
   "execution_count": null,
   "metadata": {},
   "outputs": [],
   "source": [
    "train_data_aug.shape, train_labels_aug.shape, val_data_aug.shape, val_labels_aug.shape"
   ]
  },
  {
   "cell_type": "code",
   "execution_count": null,
   "metadata": {},
   "outputs": [],
   "source": [
    "# # Gaussian mixture model\n",
    "\n",
    "# from sklearn.mixture import GaussianMixture\n",
    "\n",
    "# def gmm(train_data, val_data, test_data, n):\n",
    "#     gmm = GaussianMixture(n_components=n)\n",
    "#     gmm.fit(train_data)\n",
    "#     train_data_gmm = gmm.predict_proba(train_data)\n",
    "#     val_data_gmm = gmm.predict_proba(val_data)\n",
    "#     test_data_gmm = gmm.predict_proba(test_data)\n",
    "#     return train_data_gmm, val_data_gmm, test_data_gmm\n",
    "\n",
    "# # grid search\n",
    "\n",
    "# from sklearn.model_selection import GridSearchCV\n",
    "\n",
    "# def grid_search(model, params, train_data, train_labels):\n",
    "#     clf = GridSearchCV(model, params, scoring='f1_macro', n_jobs=-1, cv=5)\n",
    "#     clf.fit(train_data, train_labels)\n",
    "#     return clf.best_estimator_\n",
    "\n",
    "# # do grid search of gmm\n",
    "\n",
    "# # gmm_params = {'n_components': list(range(10, 25))}\n",
    "# # gmm_best = grid_search(GaussianMixture(), gmm_params, train_data_pca, train_labels)\n",
    "# # gmm_best\n",
    "\n",
    "# u, v, w = gmm(train_data_pca, val_data_pca, test_data_pca, 15)\n",
    "# u.shape, v.shape, w.shape"
   ]
  },
  {
   "cell_type": "code",
   "execution_count": null,
   "metadata": {},
   "outputs": [],
   "source": []
  },
  {
   "cell_type": "code",
   "execution_count": null,
   "metadata": {},
   "outputs": [],
   "source": [
    "# # cross validation\n",
    "\n",
    "# from sklearn.model_selection import cross_val_predict, cross_validate\n",
    "# from sklearn.metrics import make_scorer\n",
    "\n",
    "# knn = KNeighborsClassifier(n_neighbors=10)\n",
    "# # scores = cross_validate(knn, np.concatenate((train_data_aug, val_data_aug)), np.concatenate((train_labels_aug, val_labels_aug)), cv=5, scoring=make_scorer(f1_score, average='weighted'))\n",
    "# # scores = cross_validate(knn, train_data_aug, train_labels_aug, cv=5, scoring=make_scorer(f1_score, average='macro'))\n",
    "# knn_pred = cross_val_predict(knn, train_data_aug, train_labels_aug, cv=5)\n",
    "# # knn_preds = knn.predict(val_data_aug)\n",
    "# # scores\n",
    "# accuracy_score(val_labels_aug, knn_pred), f1_score(val_labels_aug, knn_pred, average='macro')"
   ]
  },
  {
   "cell_type": "code",
   "execution_count": null,
   "metadata": {},
   "outputs": [],
   "source": [
    "# knn classifier\n",
    "\n",
    "# grid search\n",
    "# knn = KNeighborsClassifier()\n",
    "# param_grid = {'n_neighbors': np.arange(5, 30)}\n",
    "# knn_gscv = GridSearchCV(knn, param_grid, cv=5, scoring='f1_macro')\n",
    "# knn_gscv.fit(train_data_aug, train_labels_aug)\n",
    "# nn = knn_gscv.best_params_\n",
    "\n",
    "# find accuracy\n",
    "\n",
    "knn = KNeighborsClassifier(n_neighbors=10, p=2)\n",
    "knn.fit(train_data_aug, train_labels_aug)\n",
    "knn_pred = knn.predict(val_data_aug)\n",
    "accuracy_score(val_labels_aug, knn_pred), f1_score(val_labels_aug, knn_pred, average='macro')"
   ]
  },
  {
   "cell_type": "code",
   "execution_count": null,
   "metadata": {},
   "outputs": [],
   "source": [
    "# try with random forests\n",
    "\n",
    "# grid search\n",
    "# rf = RandomForestClassifier()\n",
    "# param_grid = {'n_estimators': np.arange(1, 50)}\n",
    "# rf_gscv = GridSearchCV(rf, param_grid, cv=5, scoring='f1_macro')\n",
    "# rf_gscv.fit(train_data_aug, train_labels_aug)\n",
    "# nn = rf_gscv.best_params_\n",
    "\n",
    "# est = nn['n_estimators']\n",
    "# find accuracy\n",
    "rf = RandomForestClassifier(n_estimators=20)\n",
    "rf.fit(train_data_aug, train_labels_aug)\n",
    "rf_pred = rf.predict(val_data_aug)\n",
    "accuracy_score(val_labels_aug, rf_pred), f1_score(val_labels_aug, rf_pred, average='macro')"
   ]
  },
  {
   "cell_type": "code",
   "execution_count": null,
   "metadata": {},
   "outputs": [],
   "source": [
    "# est"
   ]
  },
  {
   "cell_type": "code",
   "execution_count": null,
   "metadata": {},
   "outputs": [],
   "source": [
    "# rf_pred_np = rf.predict(test_data_pca)\n",
    "# rf_pred = pd.DataFrame(np.array([(i + 1, v) for i, v in enumerate(rf_pred_np)]))\n",
    "# rf_pred.columns = ['Id', 'Category']\n",
    "# rf_pred.to_csv('rf_pred.csv', index=False)"
   ]
  },
  {
   "cell_type": "code",
   "execution_count": null,
   "metadata": {},
   "outputs": [],
   "source": [
    "knn_pred_np = knn.predict(test_data_pca)\n",
    "knn_pred = pd.DataFrame(np.array([(i + 1, v) for i, v in enumerate(knn_pred_np)]))\n",
    "knn_pred.columns = ['Id', 'Category']\n",
    "knn_pred.to_csv('knn_pred.csv', index=False)"
   ]
  },
  {
   "cell_type": "code",
   "execution_count": null,
   "metadata": {},
   "outputs": [],
   "source": []
  }
 ],
 "metadata": {
  "kernelspec": {
   "display_name": "Python 3",
   "language": "python",
   "name": "python3"
  },
  "language_info": {
   "codemirror_mode": {
    "name": "ipython",
    "version": 3
   },
   "file_extension": ".py",
   "mimetype": "text/x-python",
   "name": "python",
   "nbconvert_exporter": "python",
   "pygments_lexer": "ipython3",
   "version": "3.11.5"
  }
 },
 "nbformat": 4,
 "nbformat_minor": 2
}
