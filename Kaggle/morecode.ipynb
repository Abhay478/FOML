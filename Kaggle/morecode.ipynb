{
 "cells": [
  {
   "cell_type": "code",
   "execution_count": 72,
   "metadata": {},
   "outputs": [],
   "source": [
    "# import everything\n",
    "import numpy as np\n",
    "import pandas as pd\n",
    "from sklearn.preprocessing import StandardScaler\n",
    "from sklearn.neighbors import KNeighborsClassifier\n",
    "from sklearn.metrics import accuracy_score\n",
    "from sklearn.metrics import f1_score\n",
    "from sklearn.model_selection import train_test_split\n",
    "from sklearn.ensemble import RandomForestClassifier\n"
   ]
  },
  {
   "cell_type": "code",
   "execution_count": 162,
   "metadata": {},
   "outputs": [
    {
     "data": {
      "text/plain": [
       "((2385, 24), (2385,), (597, 24), (597,), (426, 24))"
      ]
     },
     "execution_count": 162,
     "metadata": {},
     "output_type": "execute_result"
    }
   ],
   "source": [
    "# read data\n",
    "\n",
    "train = pd.read_csv('train.csv')\n",
    "test_data = pd.read_csv('test.csv')\n",
    "\n",
    "# get data and labels\n",
    "train_data = train.drop(['Target Variable (Discrete)'], axis=1)\n",
    "train_labels = train['Target Variable (Discrete)']\n",
    "\n",
    "# standardize data\n",
    "scaler = StandardScaler()\n",
    "scaler.fit(train_data)\n",
    "train_data_ = scaler.transform(train_data)\n",
    "\n",
    "# black magic\n",
    "train_data_ = np.concatenate((train_data_, train_data_, train_data_))\n",
    "train_labels = np.concatenate((train_labels, train_labels, train_labels))\n",
    "\n",
    "# split data into train and validation\n",
    "train_data, val_data, train_labels, val_labels = train_test_split(train_data_, train_labels, test_size=0.2, random_state=42)\n",
    "test_data = scaler.transform(test_data)\n",
    "\n",
    "# print shapes\n",
    "train_data.shape, train_labels.shape, val_data.shape, val_labels.shape, test_data.shape\n"
   ]
  },
  {
   "cell_type": "code",
   "execution_count": 163,
   "metadata": {},
   "outputs": [
    {
     "data": {
      "text/plain": [
       "array([ 747, 1464,  327,    9,    9,  123,  210,   15,   21,    6,    3,\n",
       "          3,    3,    9,   15,   12,    3,    3])"
      ]
     },
     "execution_count": 163,
     "metadata": {},
     "output_type": "execute_result"
    }
   ],
   "source": [
    "np.bincount(train_labels) + np.bincount(val_labels, minlength=18)"
   ]
  },
  {
   "cell_type": "code",
   "execution_count": 164,
   "metadata": {},
   "outputs": [],
   "source": [
    "# knn imputer\n",
    "def knn_imputer(train_data, val_data, test_data, k):\n",
    "    from sklearn.impute import KNNImputer\n",
    "    imputer = KNNImputer(n_neighbors=k)\n",
    "    all_imp = imputer.fit_transform(train_data_)\n",
    "    train_data_imp = imputer.transform(train_data)\n",
    "    val_data_imp = imputer.transform(val_data)\n",
    "    test_data_imp = imputer.transform(test_data)\n",
    "    return train_data_imp, val_data_imp, test_data_imp, all_imp\n",
    "\n",
    "# PCA\n",
    "from sklearn.decomposition import PCA\n",
    "\n",
    "def pca(train_data, val_data, test_data, n):\n",
    "    pca = PCA(n_components=n)\n",
    "    pca.fit(train_data)\n",
    "    train_data_pca = pca.transform(train_data)\n",
    "    val_data_pca = pca.transform(val_data)\n",
    "    test_data_pca = pca.transform(test_data)\n",
    "    return train_data_pca, val_data_pca, test_data_pca\n",
    "\n",
    "# augment data\n",
    "\n",
    "def augment_data(train_data, train_labels):\n",
    "    from imblearn.over_sampling import RandomOverSampler\n",
    "    oversample = RandomOverSampler()\n",
    "    train_data_aug, train_labels_aug = oversample.fit_resample(train_data, train_labels)\n",
    "    return train_data_aug, train_labels_aug"
   ]
  },
  {
   "cell_type": "code",
   "execution_count": 165,
   "metadata": {},
   "outputs": [
    {
     "data": {
      "text/plain": [
       "((2385, 24), (597, 24), (426, 24))"
      ]
     },
     "execution_count": 165,
     "metadata": {},
     "output_type": "execute_result"
    }
   ],
   "source": [
    "train_data_imp, val_data_imp, test_data_imp, all_imp = knn_imputer(train_data, val_data, test_data, 7)\n",
    "train_data_imp.shape, val_data_imp.shape, test_data_imp.shape"
   ]
  },
  {
   "cell_type": "code",
   "execution_count": 166,
   "metadata": {},
   "outputs": [],
   "source": [
    "train_data_pca, val_data_pca, test_data_pca = pca(train_data_imp, val_data_imp, test_data_imp, 15)"
   ]
  },
  {
   "cell_type": "code",
   "execution_count": 167,
   "metadata": {},
   "outputs": [],
   "source": [
    "train_data_aug, train_labels_aug = augment_data(train_data_pca, train_labels)\n",
    "val_data_aug, val_labels_aug = augment_data(val_data_pca, val_labels)"
   ]
  },
  {
   "cell_type": "code",
   "execution_count": 168,
   "metadata": {},
   "outputs": [
    {
     "data": {
      "text/plain": [
       "((21312, 15), (21312,), (3920, 15), (3920,))"
      ]
     },
     "execution_count": 168,
     "metadata": {},
     "output_type": "execute_result"
    }
   ],
   "source": [
    "train_data_aug.shape, train_labels_aug.shape, val_data_aug.shape, val_labels_aug.shape"
   ]
  },
  {
   "cell_type": "code",
   "execution_count": 169,
   "metadata": {},
   "outputs": [
    {
     "data": {
      "text/plain": [
       "(0.9839285714285714, 0.9183616583106672)"
      ]
     },
     "execution_count": 169,
     "metadata": {},
     "output_type": "execute_result"
    }
   ],
   "source": [
    "# knn classifier\n",
    "\n",
    "# grid search\n",
    "# knn = KNeighborsClassifier()\n",
    "# param_grid = {'n_neighbors': np.arange(5, 30)}\n",
    "# knn_gscv = GridSearchCV(knn, param_grid, cv=5, scoring='f1_macro')\n",
    "# knn_gscv.fit(train_data_aug, train_labels_aug)\n",
    "# nn = knn_gscv.best_params_\n",
    "\n",
    "# find accuracy\n",
    "knn = KNeighborsClassifier(n_neighbors=10, p=2)\n",
    "knn.fit(train_data_aug, train_labels_aug)\n",
    "knn_pred = knn.predict(val_data_aug)\n",
    "accuracy_score(val_labels_aug, knn_pred), f1_score(val_labels_aug, knn_pred, average='macro')"
   ]
  },
  {
   "cell_type": "code",
   "execution_count": 128,
   "metadata": {},
   "outputs": [
    {
     "data": {
      "text/plain": [
       "(1.0, 1.0)"
      ]
     },
     "execution_count": 128,
     "metadata": {},
     "output_type": "execute_result"
    }
   ],
   "source": [
    "# # try with random forests\n",
    "\n",
    "# # grid search\n",
    "# # rf = RandomForestClassifier()\n",
    "# # param_grid = {'n_estimators': np.arange(1, 50)}\n",
    "# # rf_gscv = GridSearchCV(rf, param_grid, cv=5, scoring='f1_macro')\n",
    "# # rf_gscv.fit(train_data_aug, train_labels_aug)\n",
    "# # nn = rf_gscv.best_params_\n",
    "\n",
    "# # est = nn['n_estimators']\n",
    "# # find accuracy\n",
    "# rf = RandomForestClassifier(n_estimators=20)\n",
    "# rf.fit(train_data_aug, train_labels_aug)\n",
    "# rf_pred = rf.predict(val_data_aug)\n",
    "# accuracy_score(val_labels_aug, rf_pred), f1_score(val_labels_aug, rf_pred, average='macro')"
   ]
  },
  {
   "cell_type": "code",
   "execution_count": 113,
   "metadata": {},
   "outputs": [
    {
     "data": {
      "text/plain": [
       "74"
      ]
     },
     "execution_count": 113,
     "metadata": {},
     "output_type": "execute_result"
    }
   ],
   "source": [
    "# est"
   ]
  },
  {
   "cell_type": "code",
   "execution_count": 131,
   "metadata": {},
   "outputs": [],
   "source": [
    "# rf_pred_np = rf.predict(test_data_pca)\n",
    "# rf_pred = pd.DataFrame(np.array([(i + 1, v) for i, v in enumerate(rf_pred_np)]))\n",
    "# rf_pred.columns = ['Id', 'Category']\n",
    "# rf_pred.to_csv('rf_pred.csv', index=False)"
   ]
  },
  {
   "cell_type": "code",
   "execution_count": 132,
   "metadata": {},
   "outputs": [],
   "source": [
    "knn_pred_np = knn.predict(test_data_pca)\n",
    "knn_pred = pd.DataFrame(np.array([(i + 1, v) for i, v in enumerate(knn_pred_np)]))\n",
    "knn_pred.columns = ['Id', 'Category']\n",
    "knn_pred.to_csv('knn_pred.csv', index=False)"
   ]
  },
  {
   "cell_type": "code",
   "execution_count": 133,
   "metadata": {},
   "outputs": [
    {
     "name": "stdout",
     "output_type": "stream",
     "text": [
      "(4, (1, 5))\n",
      "(8, (1, 5))\n",
      "(14, (1, 2))\n",
      "(15, (0, 5))\n",
      "(16, (2, 5))\n",
      "(23, (2, 5))\n",
      "(27, (0, 5))\n",
      "(31, (1, 0))\n",
      "(38, (0, 2))\n",
      "(40, (1, 14))\n",
      "(44, (0, 2))\n",
      "(50, (0, 5))\n",
      "(78, (1, 3))\n",
      "(98, (1, 2))\n",
      "(100, (0, 6))\n",
      "(101, (2, 0))\n",
      "(102, (1, 0))\n",
      "(106, (1, 5))\n",
      "(107, (0, 2))\n",
      "(108, (0, 4))\n",
      "(109, (1, 3))\n",
      "(110, (1, 12))\n",
      "(111, (0, 2))\n",
      "(113, (2, 8))\n",
      "(114, (0, 15))\n",
      "(121, (1, 0))\n",
      "(147, (1, 15))\n",
      "(148, (2, 5))\n",
      "(153, (1, 5))\n",
      "(170, (0, 5))\n",
      "(178, (1, 0))\n",
      "(181, (1, 5))\n",
      "(187, (0, 2))\n",
      "(192, (2, 3))\n",
      "(195, (0, 6))\n",
      "(217, (1, 2))\n",
      "(233, (1, 5))\n",
      "(244, (1, 6))\n",
      "(251, (0, 15))\n",
      "(259, (1, 0))\n",
      "(261, (1, 12))\n",
      "(268, (0, 2))\n",
      "(283, (8, 2))\n",
      "(286, (2, 0))\n",
      "(290, (0, 5))\n",
      "(295, (0, 13))\n",
      "(296, (0, 2))\n",
      "(304, (2, 5))\n",
      "(306, (1, 0))\n",
      "(317, (1, 2))\n",
      "(323, (0, 2))\n",
      "(327, (0, 3))\n",
      "(328, (1, 3))\n",
      "(333, (1, 0))\n",
      "(345, (1, 2))\n",
      "(347, (1, 2))\n",
      "(356, (0, 5))\n",
      "(391, (0, 13))\n",
      "(395, (1, 0))\n",
      "(398, (1, 2))\n",
      "(417, (1, 5))\n",
      "(420, (0, 2))\n",
      "(425, (1, 0))\n"
     ]
    }
   ],
   "source": [
    "for q in enumerate(zip(rf_pred_np, knn_pred_np)):\n",
    "    if q[1][0] != q[1][1]:\n",
    "        print(q)"
   ]
  }
 ],
 "metadata": {
  "kernelspec": {
   "display_name": "Python 3",
   "language": "python",
   "name": "python3"
  },
  "language_info": {
   "codemirror_mode": {
    "name": "ipython",
    "version": 3
   },
   "file_extension": ".py",
   "mimetype": "text/x-python",
   "name": "python",
   "nbconvert_exporter": "python",
   "pygments_lexer": "ipython3",
   "version": "3.11.5"
  }
 },
 "nbformat": 4,
 "nbformat_minor": 2
}
