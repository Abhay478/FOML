{
 "cells": [
  {
   "cell_type": "code",
   "execution_count": null,
   "metadata": {},
   "outputs": [],
   "source": [
    "import pandas as pd\n",
    "import numpy as np\n",
    "import matplotlib.pyplot as plt\n",
    "import seaborn as sns"
   ]
  },
  {
   "cell_type": "code",
   "execution_count": null,
   "metadata": {},
   "outputs": [],
   "source": [
    "train_data = pd.read_csv('train.csv')\n",
    "test_data = pd.read_csv('test.csv')\n",
    "\n",
    "# get data and labels\n",
    "train_labels = train_data['Target Variable (Discrete)']"
   ]
  },
  {
   "cell_type": "code",
   "execution_count": null,
   "metadata": {},
   "outputs": [],
   "source": [
    "# median impute\n",
    "\n",
    "def median_imputer(train_data):\n",
    "    from sklearn.impute import SimpleImputer\n",
    "    imputer = SimpleImputer(strategy='median')\n",
    "    return imputer.fit_transform(train_data)"
   ]
  },
  {
   "cell_type": "code",
   "execution_count": null,
   "metadata": {},
   "outputs": [],
   "source": [
    "# impute\n",
    "\n",
    "train_data_imp = median_imputer(train_data)"
   ]
  },
  {
   "cell_type": "code",
   "execution_count": null,
   "metadata": {},
   "outputs": [],
   "source": [
    "# plot features per class\n",
    "\n",
    "\n",
    "for col in (train_data.columns.difference(['Target Variable (Discrete)'])):\n",
    "    sns.boxplot(x=train_labels, y=train_data[col])\n",
    "    plt.show()"
   ]
  },
  {
   "cell_type": "code",
   "execution_count": null,
   "metadata": {},
   "outputs": [],
   "source": [
    "# split data by class\n",
    "\n",
    "split_data = [train_data[train_data['Target Variable (Discrete)'] == i] for i in range(18)]"
   ]
  },
  {
   "cell_type": "code",
   "execution_count": null,
   "metadata": {},
   "outputs": [],
   "source": [
    "split_data"
   ]
  },
  {
   "cell_type": "code",
   "execution_count": null,
   "metadata": {},
   "outputs": [],
   "source": [
    "# histograms of everything\n",
    "\n",
    "for i, d in enumerate(split_data):\n",
    "    print(i)\n",
    "    d.hist(figsize=(20, 20))\n",
    "    plt.show()"
   ]
  },
  {
   "cell_type": "code",
   "execution_count": null,
   "metadata": {},
   "outputs": [],
   "source": [
    "# correlation matrix\n",
    "\n",
    "corr_mat = train_data.corr()\n",
    "print(corr_mat.shape)\n",
    "plt.figure(figsize=(10, 10))\n",
    "sns.heatmap(corr_mat)\n",
    "print(corr_mat)\n",
    "plt.show()"
   ]
  },
  {
   "cell_type": "code",
   "execution_count": null,
   "metadata": {},
   "outputs": [],
   "source": [
    "for i, c in enumerate(corr_mat.columns):\n",
    "    for j, v in enumerate(corr_mat[c][i+1:]):\n",
    "        if abs(v) > 0.9:\n",
    "            print(i, j + i + 1, v)"
   ]
  },
  {
   "cell_type": "code",
   "execution_count": null,
   "metadata": {},
   "outputs": [],
   "source": [
    "print(corr_mat[corr_mat.columns[0]])"
   ]
  },
  {
   "cell_type": "code",
   "execution_count": null,
   "metadata": {},
   "outputs": [],
   "source": [
    "# scatter plot of classes vs features\n",
    "\n",
    "# for i, d in enumerate(split_data):\n",
    "#     print(i)\n",
    "#     sns.pairplot(d, hue='Target Variable (Discrete)')\n",
    "#     plt.show()\n",
    "\n",
    "for c in train_data.columns:\n",
    "    slice = train_data[[c, 'Target Variable (Discrete)']]\n",
    "    # sns.pairplot(slice, hue='Target Variable (Discrete)')\n",
    "    # plt.show()\n",
    "    # plt.scatter(slice[c], slice['Target Variable (Discrete)'])\n",
    "    sns.scatterplot(y=c, x='Target Variable (Discrete)', data=slice)\n",
    "    plt.show()"
   ]
  },
  {
   "cell_type": "code",
   "execution_count": null,
   "metadata": {},
   "outputs": [],
   "source": []
  }
 ],
 "metadata": {
  "kernelspec": {
   "display_name": "Python 3",
   "language": "python",
   "name": "python3"
  },
  "language_info": {
   "codemirror_mode": {
    "name": "ipython",
    "version": 3
   },
   "file_extension": ".py",
   "mimetype": "text/x-python",
   "name": "python",
   "nbconvert_exporter": "python",
   "pygments_lexer": "ipython3",
   "version": "3.11.5"
  }
 },
 "nbformat": 4,
 "nbformat_minor": 2
}
