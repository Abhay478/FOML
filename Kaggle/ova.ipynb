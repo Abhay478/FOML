{
 "cells": [
  {
   "cell_type": "code",
   "execution_count": 2,
   "metadata": {},
   "outputs": [],
   "source": [
    "# import everything\n",
    "import numpy as np\n",
    "import pandas as pd\n",
    "from sklearn.preprocessing import StandardScaler\n",
    "from sklearn.neighbors import KNeighborsClassifier\n",
    "from sklearn.metrics import accuracy_score\n",
    "from sklearn.metrics import f1_score\n",
    "from sklearn.model_selection import train_test_split\n",
    "from sklearn.ensemble import RandomForestClassifier\n",
    "from sklearn.svm import SVC\n",
    "from sklearn.neural_network import MLPClassifier\n",
    "from sklearn.metrics import confusion_matrix\n"
   ]
  },
  {
   "cell_type": "code",
   "execution_count": 3,
   "metadata": {},
   "outputs": [],
   "source": [
    "# read data\n",
    "\n",
    "train = pd.read_csv('train.csv')\n",
    "test_data = pd.read_csv('test.csv')\n",
    "\n",
    "# get data and labels\n",
    "train_data = train.drop(['Target Variable (Discrete)'], axis=1)\n",
    "train_labels = train['Target Variable (Discrete)']\n",
    "\n",
    "# standardize data\n",
    "scaler = StandardScaler()\n",
    "scaler.fit(train_data)\n",
    "train_data_ = scaler.transform(train_data)\n",
    "test_data = scaler.transform(test_data)\n",
    "\n",
    "train_data, val_data, train_labels, val_labels = train_test_split(train_data_, train_labels, test_size=0.2, random_state=42)\n"
   ]
  },
  {
   "cell_type": "code",
   "execution_count": 4,
   "metadata": {},
   "outputs": [],
   "source": [
    "def median_imputer(train_data, val_data, test_data):\n",
    "    from sklearn.impute import SimpleImputer\n",
    "    imputer = SimpleImputer(strategy='median')\n",
    "    train_data_imp = imputer.fit_transform(train_data)\n",
    "    val_data_imp = imputer.transform(val_data)\n",
    "    test_data_imp = imputer.transform(test_data)\n",
    "    return train_data_imp, val_data_imp, test_data_imp\n",
    "\n",
    "\n",
    "def augment_data(train_data, train_labels):\n",
    "    from imblearn.over_sampling import RandomOverSampler\n",
    "    oversample = RandomOverSampler()\n",
    "    train_data_aug, train_labels_aug = oversample.fit_resample(train_data, train_labels)\n",
    "    return train_data_aug, train_labels_aug"
   ]
  },
  {
   "cell_type": "code",
   "execution_count": 5,
   "metadata": {},
   "outputs": [],
   "source": [
    "train_data_imp, val_data_imp, test_data_imp = median_imputer(train_data, val_data, test_data)\n",
    "train_data_aug, train_labels_aug = augment_data(train_data_imp, train_labels)"
   ]
  },
  {
   "cell_type": "code",
   "execution_count": 15,
   "metadata": {},
   "outputs": [
    {
     "data": {
      "text/plain": [
       "(0.8693467336683417, 0.4692401598061975)"
      ]
     },
     "execution_count": 15,
     "metadata": {},
     "output_type": "execute_result"
    }
   ],
   "source": [
    "rf = RandomForestClassifier(n_estimators=150)\n",
    "rf.fit(train_data_aug, train_labels_aug)\n",
    "rf_pred = rf.predict(val_data_imp)\n",
    "accuracy_score(val_labels, rf_pred), f1_score(val_labels, rf_pred, average='macro')"
   ]
  },
  {
   "cell_type": "code",
   "execution_count": 16,
   "metadata": {},
   "outputs": [
    {
     "data": {
      "text/plain": [
       "array([56, 94, 29,  0,  1,  7, 11,  0,  0,  0,  0,  0,  0,  0,  1])"
      ]
     },
     "execution_count": 16,
     "metadata": {},
     "output_type": "execute_result"
    }
   ],
   "source": [
    "np.bincount(rf_pred)"
   ]
  },
  {
   "cell_type": "code",
   "execution_count": 11,
   "metadata": {},
   "outputs": [],
   "source": [
    "ovas = []\n",
    "\n",
    "for i in range(18):\n",
    "    # ovas.append(KNeighborsClassifier(n_neighbors=i))\n",
    "    model = RandomForestClassifier(n_estimators=150, random_state=42)\n",
    "    # model = SVC(kernel='rbf', C=1, gamma=0.1)\n",
    "    # model = MLPClassifier(hidden_layer_sizes=(20), max_iter=500, alpha=0.01, solver='sgd', random_state=42,)\n",
    "    train_labels_aug_ = [i if x == i else -1 for x in train_labels_aug]\n",
    "    model.fit(train_data_aug, train_labels_aug_)\n",
    "    ovas.append(model)\n",
    "\n"
   ]
  },
  {
   "cell_type": "code",
   "execution_count": 17,
   "metadata": {},
   "outputs": [
    {
     "name": "stdout",
     "output_type": "stream",
     "text": [
      "[49 96 18  0  1  2 11  0  0  0  0  0  0  0  1  1  0  0]\n"
     ]
    },
    {
     "data": {
      "text/plain": [
       "(0.8592964824120602, 0.463370308777329)"
      ]
     },
     "execution_count": 17,
     "metadata": {},
     "output_type": "execute_result"
    }
   ],
   "source": [
    "# predict\n",
    "preds = []\n",
    "for ova in ovas:\n",
    "    preds.append(ova.predict(val_data_imp))\n",
    "\n",
    "# print(preds)\n",
    "preds = np.max(np.array(preds), axis=0)\n",
    "\n",
    "# preds.shape\n",
    "preds[preds == -1] = rf_pred[preds == -1]\n",
    "\n",
    "accuracy_score(val_labels, preds), f1_score(val_labels, preds, average='macro')\n",
    "# bad_bins = np.where(bins == 0)[0]\n",
    "\n",
    "# bad_bins\n"
   ]
  },
  {
   "cell_type": "code",
   "execution_count": 18,
   "metadata": {},
   "outputs": [
    {
     "data": {
      "text/plain": [
       "array([53, 98, 29,  0,  1,  5, 11,  0,  0,  0,  0,  0,  0,  0,  1,  1])"
      ]
     },
     "execution_count": 18,
     "metadata": {},
     "output_type": "execute_result"
    }
   ],
   "source": [
    "np.bincount(preds)"
   ]
  },
  {
   "cell_type": "code",
   "execution_count": 8,
   "metadata": {},
   "outputs": [
    {
     "data": {
      "text/plain": [
       "(0, 24)"
      ]
     },
     "execution_count": 8,
     "metadata": {},
     "output_type": "execute_result"
    }
   ],
   "source": [
    "weird_val_data = val_data_imp[preds == -1]\n",
    "weird_val_data.shape"
   ]
  },
  {
   "cell_type": "code",
   "execution_count": 22,
   "metadata": {},
   "outputs": [
    {
     "data": {
      "text/plain": [
       "array([102, 220,  54,   1,   3,  15,  27,   0,   1,   1,   0,   0,   0,\n",
       "         0,   2,   0,   0,   0])"
      ]
     },
     "execution_count": 22,
     "metadata": {},
     "output_type": "execute_result"
    }
   ],
   "source": [
    "# predict on test data\n",
    "\n",
    "test_preds = []\n",
    "for ova in ovas:\n",
    "    test_preds.append(ova.predict(test_data_imp))\n",
    "\n",
    "test_preds = np.max(np.array(test_preds), axis=0)\n",
    "rf_test_pred = rf.predict(test_data_imp)\n",
    "test_preds[test_preds == -1] = rf_test_pred[test_preds == -1]\n",
    "np.bincount(test_preds, minlength=18)\n",
    "\n",
    "\n"
   ]
  },
  {
   "cell_type": "code",
   "execution_count": 20,
   "metadata": {},
   "outputs": [],
   "source": [
    "# write to csv\n",
    "test_preds = pd.DataFrame(np.array([(i + 1, v) for i, v in enumerate(test_preds)]))\n",
    "test_preds.columns = ['Id', 'Category']\n",
    "test_preds.to_csv('ova_pred.csv', index=False)"
   ]
  }
 ],
 "metadata": {
  "kernelspec": {
   "display_name": "Python 3",
   "language": "python",
   "name": "python3"
  },
  "language_info": {
   "codemirror_mode": {
    "name": "ipython",
    "version": 3
   },
   "file_extension": ".py",
   "mimetype": "text/x-python",
   "name": "python",
   "nbconvert_exporter": "python",
   "pygments_lexer": "ipython3",
   "version": "3.11.5"
  }
 },
 "nbformat": 4,
 "nbformat_minor": 2
}
