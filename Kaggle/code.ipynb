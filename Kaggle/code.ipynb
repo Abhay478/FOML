{
 "cells": [
  {
   "cell_type": "code",
   "execution_count": 52,
   "metadata": {},
   "outputs": [],
   "source": [
    "# import everything\n",
    "import numpy as np\n",
    "import pandas as pd\n",
    "from sklearn.preprocessing import StandardScaler\n",
    "from sklearn.linear_model import LogisticRegression\n",
    "from sklearn.model_selection import GridSearchCV\n",
    "from sklearn.neighbors import KNeighborsClassifier\n",
    "from sklearn.metrics import accuracy_score\n",
    "from sklearn.model_selection import train_test_split\n",
    "from sklearn.ensemble import RandomForestClassifier\n",
    "from sklearn.svm import SVC\n",
    "from sklearn.linear_model import Perceptron\n",
    "from sklearn.neural_network import MLPClassifier\n",
    "from sklearn.tree import DecisionTreeClassifier\n",
    "from sklearn.ensemble import GradientBoostingClassifier\n",
    "from sklearn.cluster import KMeans\n"
   ]
  },
  {
   "cell_type": "code",
   "execution_count": 53,
   "metadata": {},
   "outputs": [
    {
     "data": {
      "text/plain": [
       "((795, 24), (795,), (199, 24), (199,), (426, 24))"
      ]
     },
     "execution_count": 53,
     "metadata": {},
     "output_type": "execute_result"
    }
   ],
   "source": [
    "# read data\n",
    "\n",
    "train = pd.read_csv('train.csv')\n",
    "test_data = pd.read_csv('test.csv')\n",
    "\n",
    "# get data and labels\n",
    "train_data = train.drop(['Target Variable (Discrete)'], axis=1)\n",
    "train_labels = train['Target Variable (Discrete)']\n",
    "\n",
    "# standardize data\n",
    "scaler = StandardScaler()\n",
    "scaler.fit(train_data)\n",
    "train_data_ = scaler.transform(train_data)\n",
    "train_data, val_data, train_labels, val_labels = train_test_split(train_data_, train_labels, test_size=0.2, random_state=42)\n",
    "test_data = scaler.transform(test_data)\n",
    "\n",
    "# print shapes\n",
    "train_data.shape, train_labels.shape, val_data.shape, val_labels.shape, test_data.shape\n"
   ]
  },
  {
   "cell_type": "code",
   "execution_count": 70,
   "metadata": {},
   "outputs": [],
   "source": [
    "# knn imputer\n",
    "from sklearn.impute import KNNImputer\n",
    "imputer = KNNImputer(n_neighbors=5)\n",
    "all_imp = imputer.fit_transform(train_data_)\n",
    "train_data_imp = imputer.transform(train_data)\n",
    "val_data_imp = imputer.transform(val_data)\n",
    "test_data_imp = imputer.transform(test_data)"
   ]
  },
  {
   "cell_type": "code",
   "execution_count": 55,
   "metadata": {},
   "outputs": [],
   "source": [
    "# pca\n",
    "from sklearn.decomposition import PCA\n",
    "pca = PCA(n_components=14)\n",
    "\n",
    "train_data_pca = pca.fit_transform(train_data_imp)\n",
    "val_data_pca = pca.fit_transform(val_data_imp)"
   ]
  },
  {
   "cell_type": "code",
   "execution_count": 56,
   "metadata": {},
   "outputs": [
    {
     "name": "stderr",
     "output_type": "stream",
     "text": [
      "/opt/homebrew/lib/python3.11/site-packages/sklearn/model_selection/_split.py:737: UserWarning: The least populated class in y has only 1 members, which is less than n_splits=5.\n",
      "  warnings.warn(\n"
     ]
    },
    {
     "data": {
      "text/plain": [
       "0.7889447236180904"
      ]
     },
     "execution_count": 56,
     "metadata": {},
     "output_type": "execute_result"
    }
   ],
   "source": [
    "# knn classifier\n",
    "\n",
    "# grid search\n",
    "knn = KNeighborsClassifier()\n",
    "param_grid = {'n_neighbors': np.arange(1, 25)}\n",
    "knn_gscv = GridSearchCV(knn, param_grid, cv=5)\n",
    "knn_gscv.fit(train_data_imp, train_labels)\n",
    "nn = knn_gscv.best_params_\n",
    "\n",
    "# find accuracy\n",
    "knn = KNeighborsClassifier(n_neighbors=nn['n_neighbors'])\n",
    "knn.fit(train_data_imp, train_labels)\n",
    "knn_pred = knn.predict(val_data_imp)\n",
    "accuracy_score(val_labels, knn_pred)"
   ]
  },
  {
   "cell_type": "code",
   "execution_count": 57,
   "metadata": {},
   "outputs": [
    {
     "name": "stderr",
     "output_type": "stream",
     "text": [
      "/opt/homebrew/lib/python3.11/site-packages/sklearn/model_selection/_split.py:737: UserWarning: The least populated class in y has only 1 members, which is less than n_splits=5.\n",
      "  warnings.warn(\n"
     ]
    },
    {
     "data": {
      "text/plain": [
       "0.5879396984924623"
      ]
     },
     "execution_count": 57,
     "metadata": {},
     "output_type": "execute_result"
    }
   ],
   "source": [
    "# knn on pca data\n",
    "\n",
    "# grid search\n",
    "knn = KNeighborsClassifier()\n",
    "param_grid = {'n_neighbors': np.arange(1, 25)}\n",
    "knn_gscv = GridSearchCV(knn, param_grid, cv=5)\n",
    "knn_gscv.fit(train_data_pca, train_labels)\n",
    "nn = knn_gscv.best_params_\n",
    "\n",
    "# find accuracy\n",
    "knn = KNeighborsClassifier(n_neighbors=nn['n_neighbors'])\n",
    "knn.fit(train_data_pca, train_labels)\n",
    "knn_pred = knn.predict(val_data_pca)\n",
    "accuracy_score(val_labels, knn_pred)"
   ]
  },
  {
   "cell_type": "code",
   "execution_count": 58,
   "metadata": {},
   "outputs": [
    {
     "data": {
      "text/plain": [
       "0.7989949748743719"
      ]
     },
     "execution_count": 58,
     "metadata": {},
     "output_type": "execute_result"
    }
   ],
   "source": [
    "# softmax classifier\n",
    "\n",
    "logreg = LogisticRegression(max_iter=10000)\n",
    "logreg.fit(train_data_imp, train_labels)\n",
    "logreg_pred = logreg.predict(val_data_imp)\n",
    "accuracy_score(val_labels, logreg_pred)"
   ]
  },
  {
   "cell_type": "code",
   "execution_count": 59,
   "metadata": {},
   "outputs": [
    {
     "data": {
      "text/plain": [
       "0.5728643216080402"
      ]
     },
     "execution_count": 59,
     "metadata": {},
     "output_type": "execute_result"
    }
   ],
   "source": [
    "logreg.fit(train_data_pca, train_labels)\n",
    "logreg_pred = logreg.predict(val_data_pca)\n",
    "accuracy_score(val_labels, logreg_pred)"
   ]
  },
  {
   "cell_type": "markdown",
   "metadata": {},
   "source": [
    "Clearly, PCA is not useful."
   ]
  },
  {
   "cell_type": "code",
   "execution_count": 69,
   "metadata": {},
   "outputs": [
    {
     "name": "stderr",
     "output_type": "stream",
     "text": [
      "/opt/homebrew/lib/python3.11/site-packages/sklearn/model_selection/_split.py:737: UserWarning: The least populated class in y has only 1 members, which is less than n_splits=5.\n",
      "  warnings.warn(\n"
     ]
    },
    {
     "data": {
      "text/plain": [
       "0.8793969849246231"
      ]
     },
     "execution_count": 69,
     "metadata": {},
     "output_type": "execute_result"
    }
   ],
   "source": [
    "# try with random forests\n",
    "\n",
    "# grid search\n",
    "rf = RandomForestClassifier()\n",
    "param_grid = {'n_estimators': np.arange(1, 25)}\n",
    "rf_gscv = GridSearchCV(rf, param_grid, cv=5)\n",
    "rf_gscv.fit(train_data_imp, train_labels)\n",
    "nn = rf_gscv.best_params_\n",
    "\n",
    "est = nn['n_estimators']\n",
    "# find accuracy\n",
    "rf = RandomForestClassifier(n_estimators=nn['n_estimators'])\n",
    "rf.fit(train_data_imp, train_labels)\n",
    "rf_pred = rf.predict(val_data_imp)\n",
    "accuracy_score(val_labels, rf_pred)"
   ]
  },
  {
   "cell_type": "code",
   "execution_count": 61,
   "metadata": {},
   "outputs": [
    {
     "name": "stderr",
     "output_type": "stream",
     "text": [
      "/opt/homebrew/lib/python3.11/site-packages/sklearn/model_selection/_split.py:737: UserWarning: The least populated class in y has only 1 members, which is less than n_splits=5.\n",
      "  warnings.warn(\n"
     ]
    },
    {
     "data": {
      "text/plain": [
       "0.8291457286432161"
      ]
     },
     "execution_count": 61,
     "metadata": {},
     "output_type": "execute_result"
    }
   ],
   "source": [
    "# SVC\n",
    "\n",
    "# grid search\n",
    "svc = SVC()\n",
    "param_grid = {'C': np.arange(1, 25)}\n",
    "svc_gscv = GridSearchCV(svc, param_grid, cv=5)\n",
    "svc_gscv.fit(train_data_imp, train_labels)\n",
    "nn = svc_gscv.best_params_\n",
    "\n",
    "# find accuracy\n",
    "svc = SVC(C=nn['C'])\n",
    "svc.fit(train_data_imp, train_labels)\n",
    "svc_pred = svc.predict(val_data_imp)\n",
    "accuracy_score(val_labels, svc_pred)"
   ]
  },
  {
   "cell_type": "code",
   "execution_count": 62,
   "metadata": {},
   "outputs": [
    {
     "name": "stderr",
     "output_type": "stream",
     "text": [
      "/opt/homebrew/lib/python3.11/site-packages/sklearn/model_selection/_split.py:737: UserWarning: The least populated class in y has only 1 members, which is less than n_splits=5.\n",
      "  warnings.warn(\n"
     ]
    },
    {
     "data": {
      "text/plain": [
       "0.8442211055276382"
      ]
     },
     "execution_count": 62,
     "metadata": {},
     "output_type": "execute_result"
    }
   ],
   "source": [
    "# decision tree\n",
    "\n",
    "# grid search\n",
    "dt = DecisionTreeClassifier()\n",
    "param_grid = {'max_depth': np.arange(1, 25)}\n",
    "dt_gscv = GridSearchCV(dt, param_grid, cv=5)\n",
    "dt_gscv.fit(train_data_imp, train_labels)\n",
    "nn = dt_gscv.best_params_\n",
    "\n",
    "# find accuracy\n",
    "dt = DecisionTreeClassifier(max_depth=nn['max_depth'])\n",
    "dt.fit(train_data_imp, train_labels)\n",
    "dt_pred = dt.predict(val_data_imp)\n",
    "accuracy_score(val_labels, dt_pred)"
   ]
  },
  {
   "cell_type": "code",
   "execution_count": 63,
   "metadata": {},
   "outputs": [
    {
     "name": "stderr",
     "output_type": "stream",
     "text": [
      "/opt/homebrew/lib/python3.11/site-packages/sklearn/model_selection/_split.py:737: UserWarning: The least populated class in y has only 1 members, which is less than n_splits=5.\n",
      "  warnings.warn(\n"
     ]
    },
    {
     "data": {
      "text/plain": [
       "0.8442211055276382"
      ]
     },
     "execution_count": 63,
     "metadata": {},
     "output_type": "execute_result"
    }
   ],
   "source": [
    "# gradient boosting\n",
    "\n",
    "# grid search\n",
    "gb = GradientBoostingClassifier()\n",
    "param_grid = {'n_estimators': np.arange(1, 25)} \n",
    "gb_gscv = GridSearchCV(gb, param_grid, cv=5)\n",
    "gb_gscv.fit(train_data_imp, train_labels)\n",
    "nn = gb_gscv.best_params_\n",
    "\n",
    "# find accuracy\n",
    "gb = GradientBoostingClassifier(n_estimators=nn['n_estimators'])\n",
    "gb.fit(train_data_imp, train_labels)\n",
    "gb_pred = gb.predict(val_data_imp)\n",
    "accuracy_score(val_labels, gb_pred)"
   ]
  },
  {
   "cell_type": "code",
   "execution_count": 66,
   "metadata": {},
   "outputs": [
    {
     "name": "stderr",
     "output_type": "stream",
     "text": [
      "/opt/homebrew/lib/python3.11/site-packages/sklearn/model_selection/_split.py:737: UserWarning: The least populated class in y has only 1 members, which is less than n_splits=5.\n",
      "  warnings.warn(\n"
     ]
    },
    {
     "data": {
      "text/plain": [
       "0.8291457286432161"
      ]
     },
     "execution_count": 66,
     "metadata": {},
     "output_type": "execute_result"
    }
   ],
   "source": [
    "# neural network\n",
    "\n",
    "# grid search\n",
    "nn = MLPClassifier(max_iter=10000)\n",
    "param_grid = {'hidden_layer_sizes': np.arange(1, 25)}\n",
    "nn_gscv = GridSearchCV(nn, param_grid, cv=5)\n",
    "nn_gscv.fit(train_data_imp, train_labels)\n",
    "nn = nn_gscv.best_params_\n",
    "\n",
    "# find accuracy\n",
    "nn = MLPClassifier(hidden_layer_sizes=nn['hidden_layer_sizes'], max_iter=10000)\n",
    "nn.fit(train_data_imp, train_labels)\n",
    "nn_pred = nn.predict(val_data_imp)\n",
    "accuracy_score(val_labels, nn_pred)"
   ]
  },
  {
   "cell_type": "code",
   "execution_count": 74,
   "metadata": {},
   "outputs": [],
   "source": [
    "# final: random forests\n",
    "\n",
    "rf = RandomForestClassifier(n_estimators=est)\n",
    "all_labels = np.concatenate((train_labels, val_labels))\n",
    "rf.fit(all_imp, all_labels)\n",
    "rf_pred = rf.predict(test_data_imp)\n",
    "\n",
    "# write to csv\n",
    "rf_pred = pd.DataFrame(np.array([(i + 1, v) for i, v in enumerate(rf_pred)]))\n",
    "rf_pred.columns = ['Id', 'Category']\n",
    "rf_pred.to_csv('rf_pred.csv', index=False)\n"
   ]
  }
 ],
 "metadata": {
  "kernelspec": {
   "display_name": "Python 3",
   "language": "python",
   "name": "python3"
  },
  "language_info": {
   "codemirror_mode": {
    "name": "ipython",
    "version": 3
   },
   "file_extension": ".py",
   "mimetype": "text/x-python",
   "name": "python",
   "nbconvert_exporter": "python",
   "pygments_lexer": "ipython3",
   "version": "3.11.5"
  }
 },
 "nbformat": 4,
 "nbformat_minor": 2
}
